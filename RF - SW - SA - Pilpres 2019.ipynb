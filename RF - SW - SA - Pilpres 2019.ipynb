{
 "cells": [
  {
   "cell_type": "markdown",
   "source": [
    "# Library"
   ],
   "metadata": {
    "id": "zIzkG8LbYOD6"
   }
  },
  {
   "cell_type": "code",
   "execution_count": 42,
   "metadata": {
    "colab": {
     "base_uri": "https://localhost:8080/"
    },
    "id": "Ale6FRImMxJ6",
    "outputId": "15d8abd7-5a3d-4601-f32a-959646aae674",
    "ExecuteTime": {
     "end_time": "2024-09-26T08:42:42.210943200Z",
     "start_time": "2024-09-26T08:42:41.935447100Z"
    }
   },
   "outputs": [
    {
     "name": "stderr",
     "output_type": "stream",
     "text": [
      "[nltk_data] Downloading package stopwords to\n",
      "[nltk_data]     C:\\Users\\Rowjak\\AppData\\Roaming\\nltk_data...\n",
      "[nltk_data]   Package stopwords is already up-to-date!\n"
     ]
    }
   ],
   "source": [
    "import pandas as pd\n",
    "import nltk\n",
    "import seaborn as sns\n",
    "import os\n",
    "import matplotlib.pyplot as plt\n",
    "import json\n",
    "import re\n",
    "import emoji\n",
    "import numpy as np\n",
    "\n",
    "from nltk.tokenize import word_tokenize\n",
    "from Sastrawi.StopWordRemover.StopWordRemoverFactory import StopWordRemoverFactory\n",
    "from bahasa.stemmer import Stemmer\n",
    "\n",
    "from nltk.stem.snowball import SnowballStemmer\n",
    "from nlp_id.lemmatizer import Lemmatizer\n",
    "\n",
    "nltk.download('stopwords')\n",
    "from nltk.corpus import stopwords\n",
    "stop_words = set('indonesian') \n",
    "\n"
   ]
  },
  {
   "cell_type": "markdown",
   "source": [
    "# Load & Understand Dataset"
   ],
   "metadata": {
    "id": "7XYJgFAGYZsC"
   }
  },
  {
   "cell_type": "code",
   "execution_count": 43,
   "outputs": [
    {
     "name": "stdout",
     "output_type": "stream",
     "text": [
      "<class 'pandas.core.frame.DataFrame'>\n",
      "RangeIndex: 1815 entries, 0 to 1814\n",
      "Data columns (total 3 columns):\n",
      " #   Column      Non-Null Count  Dtype \n",
      "---  ------      --------------  ----- \n",
      " 0   Unnamed: 0  1815 non-null   int64 \n",
      " 1   sentimen    1815 non-null   object\n",
      " 2   tweet       1815 non-null   object\n",
      "dtypes: int64(1), object(2)\n",
      "memory usage: 42.7+ KB\n"
     ]
    }
   ],
   "source": [
    "project_path = os.getcwd()\n",
    "\n",
    "dataset_path = \"dataset\"\n",
    "dictionary_path = \"dictionary\"\n",
    "dataset_name = \"tweet.csv\"\n",
    "\n",
    "df = pd.read_csv(os.path.join(project_path,dataset_path,dataset_name),encoding='UTF-8')\n",
    "df.info()"
   ],
   "metadata": {
    "collapsed": false,
    "ExecuteTime": {
     "end_time": "2024-09-26T08:42:42.316340700Z",
     "start_time": "2024-09-26T08:42:42.160408400Z"
    }
   }
  },
  {
   "cell_type": "code",
   "source": [
    "df.drop('Unnamed: 0', axis=1, inplace=True)\n",
    "df.head()"
   ],
   "metadata": {
    "colab": {
     "base_uri": "https://localhost:8080/",
     "height": 206
    },
    "id": "9ffEqVIJXtzh",
    "outputId": "6da3c364-fd34-4a2c-a3fe-d0d7f68277cd",
    "ExecuteTime": {
     "end_time": "2024-09-26T08:42:42.367351600Z",
     "start_time": "2024-09-26T08:42:42.256665400Z"
    }
   },
   "execution_count": 44,
   "outputs": [
    {
     "data": {
      "text/plain": "  sentimen                                              tweet\n0  negatif  Kata @prabowo Indonesia tidak dihargai bangsa ...\n1   netral  Batuan Langka, Tasbih Jokowi Hadiah dari Habib...\n2   netral  Di era Jokowi, ekonomi Indonesia semakin baik....\n3  positif  Bagi Sumatera Selatan, Asian Games berdampak p...\n4  negatif  Negara kita ngutang buat bngun infrastruktur y...",
      "text/html": "<div>\n<style scoped>\n    .dataframe tbody tr th:only-of-type {\n        vertical-align: middle;\n    }\n\n    .dataframe tbody tr th {\n        vertical-align: top;\n    }\n\n    .dataframe thead th {\n        text-align: right;\n    }\n</style>\n<table border=\"1\" class=\"dataframe\">\n  <thead>\n    <tr style=\"text-align: right;\">\n      <th></th>\n      <th>sentimen</th>\n      <th>tweet</th>\n    </tr>\n  </thead>\n  <tbody>\n    <tr>\n      <th>0</th>\n      <td>negatif</td>\n      <td>Kata @prabowo Indonesia tidak dihargai bangsa ...</td>\n    </tr>\n    <tr>\n      <th>1</th>\n      <td>netral</td>\n      <td>Batuan Langka, Tasbih Jokowi Hadiah dari Habib...</td>\n    </tr>\n    <tr>\n      <th>2</th>\n      <td>netral</td>\n      <td>Di era Jokowi, ekonomi Indonesia semakin baik....</td>\n    </tr>\n    <tr>\n      <th>3</th>\n      <td>positif</td>\n      <td>Bagi Sumatera Selatan, Asian Games berdampak p...</td>\n    </tr>\n    <tr>\n      <th>4</th>\n      <td>negatif</td>\n      <td>Negara kita ngutang buat bngun infrastruktur y...</td>\n    </tr>\n  </tbody>\n</table>\n</div>"
     },
     "execution_count": 44,
     "metadata": {},
     "output_type": "execute_result"
    }
   ]
  },
  {
   "cell_type": "code",
   "source": [
    "df.isna().sum()/len(df)"
   ],
   "metadata": {
    "colab": {
     "base_uri": "https://localhost:8080/"
    },
    "id": "BHbEdLGZZhWZ",
    "outputId": "dd1051d9-f3ec-499e-c1ff-0563fda54dfe",
    "ExecuteTime": {
     "end_time": "2024-09-26T08:42:42.444200400Z",
     "start_time": "2024-09-26T08:42:42.351984200Z"
    }
   },
   "execution_count": 45,
   "outputs": [
    {
     "data": {
      "text/plain": "sentimen    0.0\ntweet       0.0\ndtype: float64"
     },
     "execution_count": 45,
     "metadata": {},
     "output_type": "execute_result"
    }
   ]
  },
  {
   "cell_type": "code",
   "source": [
    "plt.figure(figsize=(8, 6), dpi=100)\n",
    "ax = sns.countplot(data=df, x='sentimen', hue='sentimen')\n",
    "total = float(len(df))\n",
    "\n",
    "for p in ax.patches:\n",
    "    height = p.get_height()\n",
    "    ax.annotate(f'{height:.0f}\\n({height/total:.1%})', \n",
    "                (p.get_x() + p.get_width() / 2., height), \n",
    "                ha='center', va='center', \n",
    "                xytext=(0, 10), textcoords='offset points')\n",
    "\n",
    "plt.show()"
   ],
   "metadata": {
    "colab": {
     "base_uri": "https://localhost:8080/",
     "height": 551
    },
    "id": "U8joO6fFZhTC",
    "outputId": "302050b6-fb07-491b-afb9-46341e95c785",
    "ExecuteTime": {
     "end_time": "2024-09-26T08:42:42.781286600Z",
     "start_time": "2024-09-26T08:42:42.450369600Z"
    }
   },
   "execution_count": 46,
   "outputs": [
    {
     "data": {
      "text/plain": "<Figure size 800x600 with 1 Axes>",
      "image/png": "[encoded data removed]"
     },
     "metadata": {},
     "output_type": "display_data"
    }
   ]
  },
  {
   "cell_type": "markdown",
   "source": [
    "label sentimen yang ada cukup balance, sehingga tidak memerlukan oversampling maupun undersampling."
   ],
   "metadata": {
    "id": "SeRRaj1vbgzn"
   }
  },
  {
   "cell_type": "code",
   "source": [
    "print('Jumlah Data : ',len(df))\n",
    "\n",
    "df = df.drop_duplicates()\n",
    "print('Jumlah Data setelah menghapus data duplikat :', len(df))"
   ],
   "metadata": {
    "colab": {
     "base_uri": "https://localhost:8080/"
    },
    "id": "K7mgd8wcchZv",
    "outputId": "c2e75117-2f55-43b3-8c6c-eeae3baa3b53",
    "ExecuteTime": {
     "end_time": "2024-09-26T08:42:42.970404400Z",
     "start_time": "2024-09-26T08:42:42.734777500Z"
    }
   },
   "execution_count": 47,
   "outputs": [
    {
     "name": "stdout",
     "output_type": "stream",
     "text": [
      "Jumlah Data :  1815\n",
      "Jumlah Data setelah menghapus data duplikat : 1815\n"
     ]
    }
   ]
  },
  {
   "cell_type": "markdown",
   "source": [],
   "metadata": {
    "id": "PKAuRkx9b_Jb"
   }
  },
  {
   "cell_type": "markdown",
   "source": [
    "## Text Preprocessing\n",
    "\n",
    "*   Merubah tweet menjadi huruf kecil\n",
    "*   Merubah emoji menjadi kata yang bermakna\n",
    "*   Menghapus tanda baca\n",
    "*   Menghapus karakter khusus\n",
    "*   Menghapus Hashtag(#), username , @, dan url\n",
    "*   Menghapus stopwords\n",
    "*   Menghapus spasi berlebih\n",
    "*   Merubah slangwords ke kata asli\n",
    "\n",
    "\n",
    "\n",
    "\n",
    "\n"
   ],
   "metadata": {
    "id": "NA5VDzavcBOp"
   }
  },
  {
   "cell_type": "code",
   "source": [
    "with open(os.path.join(project_path, dictionary_path, 'combined_slang_words.json'), 'r') as json_file:\n",
    "    slang_words_dict = json.load(json_file)\n",
    "    \n",
    "exc_stopwords = [\n",
    "    'tidak', 'tak', 'belum', 'bukan', 'tanpa', 'jarang', 'kurang',\n",
    "    'baik', 'bisa', 'mungkin', 'boleh', 'masalah'\n",
    "]\n",
    "    \n",
    "def clean_and_process_text(text):\n",
    "    # Menghapus URL\n",
    "    text = re.sub(r'http\\S+|www\\S+|https\\S+', '', text, flags=re.MULTILINE)\n",
    "    text = re.sub(r'pic\\.twitter\\.com/\\S+', '', text)\n",
    "    \n",
    "    # Menghapus username dan hashtag\n",
    "    text = re.sub(r'@(prabowo|sandi|jokowi)', r'\\1', text)  \n",
    "    text = re.sub(r'@\\w+|#\\w+', '', text)  \n",
    "    \n",
    "    # Ganti tanda baca dan karakter khusus dengan spasi\n",
    "    text = re.sub(r'[^\\w\\s]', ' ', text)  # Mengganti dengan spasi\n",
    "    text = re.sub(r'\\d+', '', text)  # Menghapus angka\n",
    "    \n",
    "    # Hapus spasi lebih dari satu\n",
    "    text = re.sub(r'\\s+', ' ', text)  # Mengganti beberapa spasi dengan satu spasi\n",
    "    \n",
    "    # Mengubah ke huruf kecil dan tokenisasi\n",
    "    text = text.lower().split()\n",
    "    \n",
    "    # Menghapus stopwords menggunakan Sastrawi\n",
    "    stopword_factory = StopWordRemoverFactory()\n",
    "    stop_words = set(stopword_factory.get_stop_words())\n",
    "    \n",
    "    # Gabungkan stopwords dengan kata yang dikecualikan\n",
    "    stop_words = stop_words - set(exc_stopwords)  # Hapus kata yang dikecualikan dari stopwords\n",
    "    \n",
    "    # Saring kata-kata\n",
    "    text = [word for word in text if word not in stop_words]\n",
    "    \n",
    "    # Kompilasi regex untuk mencocokkan kata-kata slang\n",
    "    slang_words_regex = re.compile(r'\\b(?:' + '|'.join(re.escape(word) for word in slang_words_dict.keys()) + r')\\b')\n",
    "    \n",
    "    # Mengganti kata-kata slang\n",
    "    text = ' '.join(text)  # Menggabungkan kembali list kata menjadi string\n",
    "    text = slang_words_regex.sub(lambda match: slang_words_dict[match.group()], text)\n",
    "    \n",
    "    return text\n",
    "\n",
    "# Menerapkan fungsi pembersihan dan pemrosesan pada kolom 'tweet_no_extra_space'\n",
    "df['tweet_clean'] = df['tweet'].apply(clean_and_process_text)"
   ],
   "metadata": {
    "id": "I9yK87VCpG3c",
    "colab": {
     "base_uri": "https://localhost:8080/"
    },
    "outputId": "f383a0ba-538d-40dd-9ffc-7d22c98418e8",
    "ExecuteTime": {
     "end_time": "2024-09-26T08:42:45.409568900Z",
     "start_time": "2024-09-26T08:42:42.770227100Z"
    }
   },
   "execution_count": 48,
   "outputs": []
  },
  {
   "cell_type": "code",
   "execution_count": 49,
   "outputs": [
    {
     "data": {
      "text/plain": "                                                tweet  \\\n0   Kata @prabowo Indonesia tidak dihargai bangsa ...   \n1   Batuan Langka, Tasbih Jokowi Hadiah dari Habib...   \n2   Di era Jokowi, ekonomi Indonesia semakin baik....   \n3   Bagi Sumatera Selatan, Asian Games berdampak p...   \n4   Negara kita ngutang buat bngun infrastruktur y...   \n5   Yg bisikin pak jokowi, cm mikirin perputaran d...   \n6   Masa tenang msih ngoceh aja..ttp jokowi harga ...   \n7   #UASdifitnahKejiBalasDiTPS   kerjasa ekonomi b...   \n8   Iya bener Aa, kita MANTAP kan pilihan ke Pemim...   \n9   Prabowo-Sandi Sepakat Tak Ambil Gaji karena Ne...   \n10  #PilihOrangBaik #PilihJelasIslamnya #PilihBaju...   \n11  Calon presiden Jokowi menjelaskan program Kart...   \n12  Gak nginti Lu to @yunartowijaya, dan si @AT_Ab...   \n13  Menurut Jokowi, pemerintah selalu berupaya men...   \n14  Terlalu berat nge bahas ekonomi dgn angka2.. C...   \n\n                                          tweet_clean  \n0   kata prabowo indonesia tidak dihargai bangsa a...  \n1   batuan langka tasbih jokowi hadiah habib luthf...  \n2           era jokowi ekonomi indonesia semakin baik  \n3   sumatera selatan asian games berdampak pada ek...  \n4   negara ngutang buat bngun infrastruktur sudah ...  \n5   yang bisikin pak jokowi cm mikirin perputaran ...  \n6   masa tenang msih ngoceh saja ttp jokowi harga ...  \n7   kerjasa ekonomi bilateral multilateral doakan ...  \n8   iya benar aa mantap kan pilihan pemimpin yang ...  \n9   prabowo sandi sepakat tidak ambil gaji negara ...  \n10  pilih pemimpin yang udh jelas banyak pencapaia...  \n11  calon presiden jokowi menjelaskan program kart...  \n12  gak nginti kamu to si gak ngacaaa gak perlu ng...  \n13  jokowi pemerintah selalu berupaya menjaga kese...  \n14  terlalu berat nge bahas ekonomi dengan angka c...  ",
      "text/html": "<div>\n<style scoped>\n    .dataframe tbody tr th:only-of-type {\n        vertical-align: middle;\n    }\n\n    .dataframe tbody tr th {\n        vertical-align: top;\n    }\n\n    .dataframe thead th {\n        text-align: right;\n    }\n</style>\n<table border=\"1\" class=\"dataframe\">\n  <thead>\n    <tr style=\"text-align: right;\">\n      <th></th>\n      <th>tweet</th>\n      <th>tweet_clean</th>\n    </tr>\n  </thead>\n  <tbody>\n    <tr>\n      <th>0</th>\n      <td>Kata @prabowo Indonesia tidak dihargai bangsa ...</td>\n      <td>kata prabowo indonesia tidak dihargai bangsa a...</td>\n    </tr>\n    <tr>\n      <th>1</th>\n      <td>Batuan Langka, Tasbih Jokowi Hadiah dari Habib...</td>\n      <td>batuan langka tasbih jokowi hadiah habib luthf...</td>\n    </tr>\n    <tr>\n      <th>2</th>\n      <td>Di era Jokowi, ekonomi Indonesia semakin baik....</td>\n      <td>era jokowi ekonomi indonesia semakin baik</td>\n    </tr>\n    <tr>\n      <th>3</th>\n      <td>Bagi Sumatera Selatan, Asian Games berdampak p...</td>\n      <td>sumatera selatan asian games berdampak pada ek...</td>\n    </tr>\n    <tr>\n      <th>4</th>\n      <td>Negara kita ngutang buat bngun infrastruktur y...</td>\n      <td>negara ngutang buat bngun infrastruktur sudah ...</td>\n    </tr>\n    <tr>\n      <th>5</th>\n      <td>Yg bisikin pak jokowi, cm mikirin perputaran d...</td>\n      <td>yang bisikin pak jokowi cm mikirin perputaran ...</td>\n    </tr>\n    <tr>\n      <th>6</th>\n      <td>Masa tenang msih ngoceh aja..ttp jokowi harga ...</td>\n      <td>masa tenang msih ngoceh saja ttp jokowi harga ...</td>\n    </tr>\n    <tr>\n      <th>7</th>\n      <td>#UASdifitnahKejiBalasDiTPS   kerjasa ekonomi b...</td>\n      <td>kerjasa ekonomi bilateral multilateral doakan ...</td>\n    </tr>\n    <tr>\n      <th>8</th>\n      <td>Iya bener Aa, kita MANTAP kan pilihan ke Pemim...</td>\n      <td>iya benar aa mantap kan pilihan pemimpin yang ...</td>\n    </tr>\n    <tr>\n      <th>9</th>\n      <td>Prabowo-Sandi Sepakat Tak Ambil Gaji karena Ne...</td>\n      <td>prabowo sandi sepakat tidak ambil gaji negara ...</td>\n    </tr>\n    <tr>\n      <th>10</th>\n      <td>#PilihOrangBaik #PilihJelasIslamnya #PilihBaju...</td>\n      <td>pilih pemimpin yang udh jelas banyak pencapaia...</td>\n    </tr>\n    <tr>\n      <th>11</th>\n      <td>Calon presiden Jokowi menjelaskan program Kart...</td>\n      <td>calon presiden jokowi menjelaskan program kart...</td>\n    </tr>\n    <tr>\n      <th>12</th>\n      <td>Gak nginti Lu to @yunartowijaya, dan si @AT_Ab...</td>\n      <td>gak nginti kamu to si gak ngacaaa gak perlu ng...</td>\n    </tr>\n    <tr>\n      <th>13</th>\n      <td>Menurut Jokowi, pemerintah selalu berupaya men...</td>\n      <td>jokowi pemerintah selalu berupaya menjaga kese...</td>\n    </tr>\n    <tr>\n      <th>14</th>\n      <td>Terlalu berat nge bahas ekonomi dgn angka2.. C...</td>\n      <td>terlalu berat nge bahas ekonomi dengan angka c...</td>\n    </tr>\n  </tbody>\n</table>\n</div>"
     },
     "execution_count": 49,
     "metadata": {},
     "output_type": "execute_result"
    }
   ],
   "source": [
    "df[['tweet','tweet_clean']].head(15)"
   ],
   "metadata": {
    "collapsed": false,
    "ExecuteTime": {
     "end_time": "2024-09-26T08:42:45.473491Z",
     "start_time": "2024-09-26T08:42:45.413120Z"
    }
   }
  },
  {
   "cell_type": "markdown",
   "source": [
    "## Text Normalization"
   ],
   "metadata": {
    "id": "ub6CVLmIhF4C"
   }
  },
  {
   "cell_type": "code",
   "execution_count": 50,
   "outputs": [],
   "source": [
    "# Inisialisasi stemmer Sastrawi\n",
    "stemmer = Stemmer()\n",
    "\n",
    "# Terapkan stemming\n",
    "df['tweet_stemming'] = df['tweet_clean'].apply(lambda x: stemmer.stem(x))"
   ],
   "metadata": {
    "collapsed": false,
    "ExecuteTime": {
     "end_time": "2024-09-26T08:42:46.860475500Z",
     "start_time": "2024-09-26T08:42:45.441552400Z"
    }
   }
  },
  {
   "cell_type": "code",
   "execution_count": 51,
   "outputs": [],
   "source": [
    "# Inisialisasi lemmatizer\n",
    "lemmatizer = Lemmatizer()\n",
    "\n",
    "# Terapkan lemmatization langsung dalam lambda\n",
    "df['tweet_lemmatized'] = df['tweet_clean'].apply(\n",
    "    lambda text: ' '.join(lemmatizer.lemmatize(word) for word in text.split())\n",
    ")"
   ],
   "metadata": {
    "collapsed": false,
    "ExecuteTime": {
     "end_time": "2024-09-26T08:42:47.944634400Z",
     "start_time": "2024-09-26T08:42:46.863725600Z"
    }
   }
  },
  {
   "cell_type": "code",
   "execution_count": 52,
   "outputs": [],
   "source": [
    "df['tweet_tokenize'] = df['tweet_lemmatized'].apply(word_tokenize)"
   ],
   "metadata": {
    "collapsed": false,
    "ExecuteTime": {
     "end_time": "2024-09-26T08:42:48.318399Z",
     "start_time": "2024-09-26T08:42:47.948005600Z"
    }
   }
  },
  {
   "cell_type": "code",
   "execution_count": 84,
   "outputs": [
    {
     "name": "stdout",
     "output_type": "stream",
     "text": [
      "Index: 596\n",
      "Asli: Berita yang menyalahkan SBY sebagai salah satu pembuat kesalahan dalam perekonomian Indonesia, Mungkin sebaiknya hal tersebut tidak disebut Prabowo ke muka publik. Suatu kesalahan yang terlihat konyol.  http://cnn.id/386111Â \n",
      "Stemming: berita yang salah sby bagai salah satu buat salah dalam ekonomi indonesia mungkin baik hal sebut tidak sebut prabowo ke muka publik suatu salah yang lihat konyol\n",
      "Lemmatized: berita yang salah sby bagai salah satu buat salah dalam ekonomi indonesia mungkin baik hal sebut tidak sebut prabowo ke muka publik suatu salah yang lihat konyol\n",
      "Tokenize: ['berita', 'salah', 'sby', 'salah', 'satu', 'buat', 'salah', 'ekonomi', 'indonesia', 'mungkin', 'baik', 'sebut', 'tidak', 'sebut', 'prabowo', 'muka', 'publik', 'suatu', 'salah', 'lihat', 'konyol']\n",
      "Sentimen: negatif\n",
      "----------------------------------------------------------------------------------------------------\n",
      "Index: 972\n",
      "Asli: Pak @jokowi menwarkan Program Membina Ekonomi Keluarga Sejahtera (Mekaar) binaan Permodalan Nasional Madani (PNM) diluncurkan untuk menaikkan kesejahteraan warga, terutama ibu-ibu rumah tangga ke tingkat yang lebih atas lagi.   https://setkab.go.id/presiden-jokowi-program-mekaar-untuk-naikkan-kesejahteraan-ibu-ibu/Â â€¦ #JokowiMenangTotalDebat\n",
      "Stemming: pak jokowi menwarkan program bina ekonomi keluarga sejahtera mekaar bina modal nasional madani pnm luncur untuk naik sejahtera warga utama ibu ibu rumah tangga ke tingkat yang lebih atas lagi â\n",
      "Lemmatized: pak jokowi menwarkan program bina ekonomi keluarga sejahtera mekaar bina modal nasional madani pnm luncur untuk naik sejahtera warga utama ibu ibu rumah tangga ke tingkat yang lebih atas lagi \n",
      "Tokenize: ['pak', 'jokowi', 'menwarkan', 'program', 'bina', 'ekonomi', 'keluarga', 'sejahtera', 'mekaar', 'bina', 'modal', 'nasional', 'madani', 'pnm', 'luncur', 'naik', 'sejahtera', 'warga', 'utama', 'ibu', 'ibu', 'rumah', 'tangga', 'tingkat', 'lebih', 'atas']\n",
      "Sentimen: netral\n",
      "----------------------------------------------------------------------------------------------------\n",
      "Index: 1470\n",
      "Asli: Insinyur Kehutanan mau \"ngajari\" Pengusaha Besar yg Doktor dan MBA ttg ekonomi makro. Yang waras sopo ??? Tgl.17/4 datangi \"TPS\" (Tusuk PRABOWO SANDI)\n",
      "Stemming: insinyur hutan mau ngajari usaha besar yang doktor dan mbak tentang ekonomi makro yang waras sopo tanggal datang tps tusuk prabowo sandi\n",
      "Lemmatized: insinyur hutan mau ngajari usaha besar yang doktor dan mbak tentang ekonomi makro yang waras sopo tanggal datang tps tusuk prabowo sandi\n",
      "Tokenize: ['insinyur', 'hutan', 'mau', 'ngajari', 'usaha', 'besar', 'yang', 'doktor', 'mbak', 'tentang', 'ekonomi', 'makro', 'waras', 'sopo', 'tanggal', 'datang', 'tps', 'tusuk', 'prabowo', 'sandi']\n",
      "Sentimen: negatif\n",
      "----------------------------------------------------------------------------------------------------\n",
      "Index: 227\n",
      "Asli: Prabowo-Sandi Kembali Tegaskan Tidak Akan Ambil Gaji Bila Terpilih  https://politik.rmol.co/read/2019/04/13/385982/Prabowo-Sandi-Kembali-Tegaskan-Tidak-Akan-Ambil-Gaji-Bila-Terpilih-Â â€¦\n",
      "Stemming: prabowo sandi kembali tegas tidak akan ambil gaji bila pilih â\n",
      "Lemmatized: prabowo sandi kembali tegas tidak akan ambil gaji bila pilih \n",
      "Tokenize: ['prabowo', 'sandi', 'tegas', 'tidak', 'ambil', 'gaji', 'bila', 'pilih']\n",
      "Sentimen: netral\n",
      "----------------------------------------------------------------------------------------------------\n",
      "Index: 1144\n",
      "Asli: Kesimpulannya perkembangan ekonomi, agraria dan kemaritiman menjadi fokus utama PAS bukan tidak peduli terhadap esport tapi masih ada masalah yg lebih d utamakan sama seperti halnya jokowi yg menomor satukan infrastruktur.\n",
      "Stemming: simpul kembang ekonomi agraria dan maritim jadi fokus utama pas bukan tidak peduli hadap esport tapi masih ada masalah yang lebih di utama sama seperti hal jokowi yang nomor satu infrastruktur\n",
      "Lemmatized: simpul kembang ekonomi agraria dan maritim jadi fokus utama pas bukan tidak peduli hadap esport tapi masih ada masalah yang lebih di utama sama seperti hal jokowi yang nomor satu infrastruktur\n",
      "Tokenize: ['simpul', 'kembang', 'ekonomi', 'agraria', 'maritim', 'jadi', 'fokus', 'utama', 'pas', 'bukan', 'tidak', 'peduli', 'esport', 'masalah', 'yang', 'lebih', 'di', 'utama', 'sama', 'hal', 'jokowi', 'yang', 'nomor', 'satu', 'infrastruktur']\n",
      "Sentimen: netral\n",
      "----------------------------------------------------------------------------------------------------\n",
      "Index: 1114\n",
      "Asli: Gak ambil gaji yg cuma beberapa juta, tapi kebijakannya akan alirkan keuntungan Trilyunan rupiah ke perusahaann pribadi nya... Seperti di DKI  JANJI BASI @prabowo @sandiuno\n",
      "Stemming: gak ambil gaji yang cuma beberapa juta tapi bijak akan alir untung trilyunan rupiah ke perusahaann pribadi nya seperti di dki janji basi prabowo sandiuno\n",
      "Lemmatized: gak ambil gaji yang cuma beberapa juta tapi bijak akan alir untung trilyunan rupiah ke perusahaann pribadi nya seperti di dki janji basi prabowo sandiuno\n",
      "Tokenize: ['gak', 'ambil', 'gaji', 'yang', 'cuma', 'beberapa', 'juta', 'bijak', 'alir', 'untung', 'trilyunan', 'rupiah', 'perusahaann', 'pribadi', 'nya', 'dki', 'janji', 'basi', 'prabowo', 'sandiuno']\n",
      "Sentimen: negatif\n",
      "----------------------------------------------------------------------------------------------------\n",
      "Index: 190\n",
      "Asli: Lalu harga tiket pesawat kapan diturunkan pak?,saya sangat brharap besar dlm aspek ini,trlbh dngan mahal ny harga tiket pswt terbang yg amat tinggi/mahal tarif biaya expdisi antar kota pun ikut melonjak naik\n",
      "Stemming: lalu harga tiket pesawat kapan turun pak saya sangat brharap besar dlm aspek ini trlbh dngan mahal ny harga tiket pesawat terbang yang amat tinggi mahal tarif biaya expdisi antar kota pun ikut lonjak naik\n",
      "Lemmatized: lalu harga tiket pesawat kapan turun pak saya sangat brharap besar dlm aspek ini trlbh dngan mahal ny harga tiket pesawat terbang yang amat tinggi mahal tarif biaya expdisi antar kota pun ikut lonjak naik\n",
      "Tokenize: ['lalu', 'harga', 'tiket', 'pesawat', 'kapan', 'turun', 'pak', 'sangat', 'brharap', 'besar', 'dlm', 'aspek', 'trlbh', 'dngan', 'mahal', 'ny', 'harga', 'tiket', 'pesawat', 'terbang', 'yang', 'tinggi', 'mahal', 'tarif', 'biaya', 'expdisi', 'antar', 'kota', 'ikut', 'lonjak', 'naik']\n",
      "Sentimen: negatif\n",
      "----------------------------------------------------------------------------------------------------\n",
      "Index: 573\n",
      "Asli: @prabowo dan @sandiuno kalau diberi mandat rakyat gak akan ambil gaji. Gak di jiplak lagi tah @Dennysiregar7 ðŸ˜‚ðŸ˜‚\n",
      "Stemming: prabowo dan sandiuno kalau beri mandat rakyat gak akan ambil gaji gak di jiplak lagi tah ðÿ ðÿ\n",
      "Lemmatized: prabowo dan sandiuno kalau beri mandat rakyat gak akan ambil gaji gak di jiplak lagi tah  \n",
      "Tokenize: ['prabowo', 'sandiuno', 'kalau', 'beri', 'mandat', 'rakyat', 'gak', 'ambil', 'gaji', 'gak', 'jiplak', 'tah']\n",
      "Sentimen: positif\n",
      "----------------------------------------------------------------------------------------------------\n",
      "Index: 194\n",
      "Asli: Janji Tak Ambil Gaji jika Terpilih, Prabowo-Sandi Ikuti Jejak Para Presiden Terkenal Ini #UASdifitnahKejiDanBrutal #BeraniPilih02 #TusukPrabowoSandi #HoaxJkwMenangTotalDebat  http://bit.ly/2v9QUqhÂ \n",
      "Stemming: janji tidak ambil gaji jika pilih prabowo sandi ikut jejak para presiden kenal ini\n",
      "Lemmatized: janji tidak ambil gaji jika pilih prabowo sandi ikut jejak para presiden kenal ini\n",
      "Tokenize: ['janji', 'tidak', 'ambil', 'gaji', 'pilih', 'prabowo', 'sandi', 'ikut', 'jejak', 'presiden', 'kenal']\n",
      "Sentimen: netral\n",
      "----------------------------------------------------------------------------------------------------\n",
      "Index: 1625\n",
      "Asli: Ekonomi akan tumbuh dengan pemimpin pak jokowi #JokowiMenangTotalDebat pic.twitter.com/ji4hFii1wW\n",
      "Stemming: ekonomi akan tumbuh dengan pimpin pak jokowi\n",
      "Lemmatized: ekonomi akan tumbuh dengan pimpin pak jokowi\n",
      "Tokenize: ['ekonomi', 'tumbuh', 'pimpin', 'pak', 'jokowi']\n",
      "Sentimen: positif\n",
      "----------------------------------------------------------------------------------------------------\n",
      "Index: 1525\n",
      "Asli: Heran jg sih sekelas sandy gk bisa bedain omongan ttg mikro dan makro ekonomi,  terlihat gk kompeten jadinya\n",
      "Stemming: heran juga sih kelas sandy gk bisa bedain omong tentang mikro dan makro ekonomi lihat gk kompeten jadi\n",
      "Lemmatized: heran juga sih kelas sandy gk bisa bedain omong tentang mikro dan makro ekonomi lihat gk kompeten jadi\n",
      "Tokenize: ['heran', 'juga', 'sih', 'kelas', 'sandy', 'gk', 'bisa', 'bedain', 'omong', 'tentang', 'mikro', 'makro', 'ekonomi', 'lihat', 'gk', 'kompeten', 'jadi']\n",
      "Sentimen: negatif\n",
      "----------------------------------------------------------------------------------------------------\n",
      "Index: 48\n",
      "Asli: Monggo silahkan..itu hak anda...hargai juga kami yg inginkan perubahan lebih baik...\n",
      "Stemming: monggo silah itu hak anda harga juga kami yang ingin ubah lebih baik\n",
      "Lemmatized: monggo silah itu hak anda harga juga kami yang ingin ubah lebih baik\n",
      "Tokenize: ['monggo', 'silah', 'hak', 'harga', 'yang', 'ingin', 'ubah', 'lebih', 'baik']\n",
      "Sentimen: netral\n",
      "----------------------------------------------------------------------------------------------------\n",
      "Index: 102\n",
      "Asli: #PilihOrangBaik #PilihJelasIslamnya #PilihBajuPutih  Pentingnya sisi industri kreatif dan inovatif di era industri global. Membuat jokowi tergerak untuk mengubah Badan Ekonomi Kreatif (Bekraf) menjadi sebuah kementerian .\n",
      "Stemming: penting sisi industri kreatif dan inovatif di era industri global buat jokowi gerak untuk ubah badan ekonomi kreatif bekraf jadi buah menteri\n",
      "Lemmatized: penting sisi industri kreatif dan inovatif di era industri global buat jokowi gerak untuk ubah badan ekonomi kreatif bekraf jadi buah menteri\n",
      "Tokenize: ['penting', 'sisi', 'industri', 'kreatif', 'inovatif', 'era', 'industri', 'global', 'buat', 'jokowi', 'gerak', 'ubah', 'badan', 'ekonomi', 'kreatif', 'bekraf', 'jadi', 'buah', 'menteri']\n",
      "Sentimen: netral\n",
      "----------------------------------------------------------------------------------------------------\n",
      "Index: 432\n",
      "Asli: artinya presiden yg ke 6 tdk menerima gaji.prabowo sandi akan dilimpahkan ke yatim piatu dan dhuafa subhanallah\n",
      "Stemming: arti presiden yang ke tidak terima gaji prabowo sandi akan limpah ke yatim piatu dan dhuafa subhanallah\n",
      "Lemmatized: arti presiden yang ke tidak terima gaji prabowo sandi akan limpah ke yatim piatu dan dhuafa subhanallah\n",
      "Tokenize: ['arti', 'presiden', 'yang', 'tidak', 'terima', 'gaji', 'prabowo', 'sandi', 'limpah', 'yatim', 'piatu', 'dhuafa', 'subhanallah']\n",
      "Sentimen: positif\n",
      "----------------------------------------------------------------------------------------------------\n",
      "Index: 335\n",
      "Asli: Ngajarin ekonomi mikro sama makro ke pengusaha top kaya pak prabowo dan bang sandi ibarat ngajarin ikan berenang... Padahal udah jago #UASdifitnahKejiDanBrutal\n",
      "Stemming: ngajarin ekonomi mikro sama makro ke usaha top kaya pak prabowo dan bang sandi ibarat ngajarin ikan renang padahal sudah jago\n",
      "Lemmatized: ngajarin ekonomi mikro sama makro ke usaha top kaya pak prabowo dan bang sandi ibarat ngajarin ikan renang padahal sudah jago\n",
      "Tokenize: ['ngajarin', 'ekonomi', 'mikro', 'sama', 'makro', 'usaha', 'top', 'kaya', 'pak', 'prabowo', 'bang', 'sandi', 'ibarat', 'ngajarin', 'ikan', 'renang', 'padahal', 'sudah', 'jago']\n",
      "Sentimen: negatif\n",
      "----------------------------------------------------------------------------------------------------\n",
      "Index: 1378\n",
      "Asli: Prabowo-sandi jika terpilih  gajinya tidak akan di ambil, tapi akan di sumbangkan ke kaum duafa\n",
      "Stemming: prabowo sandi jika pilih gaji tidak akan di ambil tapi akan di sumbang ke kaum duafa\n",
      "Lemmatized: prabowo sandi jika pilih gaji tidak akan di ambil tapi akan di sumbang ke kaum duafa\n",
      "Tokenize: ['prabowo', 'sandi', 'pilih', 'gaji', 'tidak', 'ambil', 'sumbang', 'kaum', 'duafa']\n",
      "Sentimen: netral\n",
      "----------------------------------------------------------------------------------------------------\n",
      "Index: 612\n",
      "Asli: wkwkwkk... uang gaji dari LN buat apa..?? sampai habis di Indonesia\n",
      "Stemming: wkwkwkk uang gaji dari ln buat apa sampai habis di indonesia\n",
      "Lemmatized: wkwkwkk uang gaji dari ln buat apa sampai habis di indonesia\n",
      "Tokenize: ['wkwkwkk', 'uang', 'gaji', 'ln', 'buat', 'apa', 'habis', 'indonesia']\n",
      "Sentimen: negatif\n",
      "----------------------------------------------------------------------------------------------------\n",
      "Index: 120\n",
      "Asli: Ya allah apa mgkn sosok seorg jokowi berani sprti itu kl capres anda sih mgkn jg tlg @MardaniAliSera  jgn fitnah presidenku sprti itu... kl jokowi diberi jln itu krn beliau org baik pak dan presiden yg sangat dihargai, ah sy curiga jgn2 anda mau blg ini cawapres anda ðŸ˜‚ðŸ˜‚ðŸ˜‚\n",
      "Stemming: iya allah apa mungkin sosok seorg jokowi berani seperti itu kalau capres anda sih mungkin juga tlg jangan fitnah presiden seperti itu kalau jokowi beri jalan itu karena beliau org baik pak dan presiden yang sangat harga ah saya curiga jangan anda mau bilang ini cawapres anda ðÿ ðÿ ðÿ\n",
      "Lemmatized: iya allah apa mungkin sosok seorg jokowi berani seperti itu kalau capres anda sih mungkin juga tlg jangan fitnah presiden seperti itu kalau jokowi beri jalan itu karena beliau org baik pak dan presiden yang sangat harga ah saya curiga jangan anda mau bilang ini cawapres anda   \n",
      "Tokenize: ['allah', 'apa', 'mungkin', 'sosok', 'seorg', 'jokowi', 'berani', 'seperti', 'kalau', 'capres', 'sih', 'mungkin', 'juga', 'tlg', 'jangan', 'fitnah', 'presiden', 'seperti', 'kalau', 'jokowi', 'beri', 'jalan', 'karena', 'beliau', 'org', 'baik', 'pak', 'presiden', 'yang', 'sangat', 'harga', 'ah', 'saya', 'curiga', 'jangan', 'mau', 'bilang', 'cawapres']\n",
      "Sentimen: negatif\n",
      "----------------------------------------------------------------------------------------------------\n",
      "Index: 186\n",
      "Asli: Semua sudah ada NJOP nya,jadi kalau ngeyel harga nya ditinggiin,ya itu salah yg minta lah!!!\n",
      "Stemming: semua sudah ada njop nya jadi kalau ngeyel harga nya ditinggiin iya itu salah yang minta lah\n",
      "Lemmatized: semua sudah ada njop nya jadi kalau ngeyel harga nya ditinggiin iya itu salah yang minta lah\n",
      "Tokenize: ['semua', 'njop', 'nya', 'jadi', 'kalau', 'ngeyel', 'harga', 'nya', 'ditinggiin', 'salah', 'yang', 'minta', 'lah']\n",
      "Sentimen: negatif\n",
      "----------------------------------------------------------------------------------------------------\n",
      "Index: 1609\n",
      "Asli: Prabowo Sandi janji ga  ambil gajinya sbg presiden - wakil presiden,  ya pasti berani lah.. kan ga mungkin jd presiden - wakil krn ga kepilih.. ngelawak nehðŸ˜…  pic.twitter.com/Iyj9J4suCc\n",
      "Stemming: prabowo sandi janji ga ambil gaji sbg presiden wakil presiden iya pasti berani lah kan ga mungkin jadi presiden wakil karena ga pilih ngelawak nehðÿ\n",
      "Lemmatized: prabowo sandi janji ga ambil gaji sbg presiden wakil presiden iya pasti berani lah kan ga mungkin jadi presiden wakil karena ga pilih ngelawak neh\n",
      "Tokenize: ['prabowo', 'sandi', 'janji', 'ga', 'ambil', 'gaji', 'sbg', 'presiden', 'wakil', 'presiden', 'berani', 'lah', 'kan', 'ga', 'mungkin', 'jadi', 'presiden', 'wakil', 'karena', 'ga', 'pilih', 'ngelawak', 'neh']\n",
      "Sentimen: negatif\n",
      "----------------------------------------------------------------------------------------------------\n"
     ]
    }
   ],
   "source": [
    "# Ambil 10 baris secara acak\n",
    "random_sample = df.sample(n=20, random_state=1)  # random_state untuk konsistensi hasil\n",
    "for index, row in random_sample.iterrows():\n",
    "    print(f\"Index: {index}\")\n",
    "    print(f\"Asli: {row['tweet']}\")\n",
    "    print(f\"Stemming: {row['tweet_stemming']}\")\n",
    "    print(f\"Lemmatized: {row['tweet_lemmatized']}\")\n",
    "    print(f\"Tokenize: {row['tweet_tokenize']}\")\n",
    "    print(f\"Sentimen: {row['sentimen']}\")\n",
    "    print(\"-\" * 100)  # Pembatas antar tweet"
   ],
   "metadata": {
    "collapsed": false,
    "ExecuteTime": {
     "end_time": "2024-09-26T11:55:04.152596600Z",
     "start_time": "2024-09-26T11:55:04.018354900Z"
    }
   }
  },
  {
   "cell_type": "markdown",
   "source": [
    "## Hasil dari Preprocessing & Text Normalization\n",
    "\n",
    "*   Semua data terjadi perubahan dari text preprocessing\n",
    "*   Meskipun telah dicoba dengan Lematisasi dan Stemming, Tim Lebih memilih menggunakan lematisasi karena lebih akurat dalam mempertahankan makna\n",
    "\n"
   ],
   "metadata": {
    "id": "joVVed25jP_j"
   }
  },
  {
   "cell_type": "code",
   "execution_count": 54,
   "outputs": [
    {
     "data": {
      "text/plain": "<Figure size 1000x600 with 1 Axes>",
      "image/png": "[encoded data removed]"
     },
     "metadata": {},
     "output_type": "display_data"
    }
   ],
   "source": [
    "from collections import Counter\n",
    "text = list(df['tweet_lemmatized'])\n",
    "\n",
    "words = []\n",
    "for line in text:\n",
    "    words.extend(line.split())\n",
    "\n",
    "# Menghitung jumlah kata\n",
    "words_count = Counter(words)\n",
    "\n",
    "# Ambil kata yang paling sering muncul\n",
    "most_common_words = words_count.most_common(10)\n",
    "\n",
    "# Buat DataFrame untuk visualisasi\n",
    "most_common_df = pd.DataFrame(most_common_words, columns=['word', 'count'])\n",
    "\n",
    "# Menambahkan kolom persentase\n",
    "total_words = sum(words_count.values())\n",
    "most_common_df['percentage'] = (most_common_df['count'] / total_words) * 100\n",
    "\n",
    "# Visualisasi dengan seaborn\n",
    "plt.figure(figsize=(10, 6))\n",
    "sns.barplot(x='count', y='word', data=most_common_df, palette='viridis', hue='word', legend=False)\n",
    "\n",
    "# Menambahkan label jumlah dan persentase di dalam bar\n",
    "for i in range(len(most_common_df)):\n",
    "    count = most_common_df['count'][i]\n",
    "    plt.text(count, i, f'{count}', color='black', va='center')\n",
    "\n",
    "# Menambahkan judul dan label\n",
    "plt.title('10 Kata Paling Sering Muncul di Tweet')\n",
    "plt.xlabel('Frekuensi')\n",
    "plt.ylabel('Kata')\n",
    "\n",
    "plt.show()"
   ],
   "metadata": {
    "collapsed": false,
    "ExecuteTime": {
     "end_time": "2024-09-26T08:42:48.711824700Z",
     "start_time": "2024-09-26T08:42:48.354461200Z"
    }
   }
  },
  {
   "cell_type": "code",
   "execution_count": 55,
   "outputs": [
    {
     "name": "stdout",
     "output_type": "stream",
     "text": [
      "sentimen  Jml_Tweet  positif  netral  negatif  % Ngtf  % Netr  % Pstf\n",
      "word                                                                 \n",
      "ekonomi        1027      294     369      364   35.44   35.93   28.63\n",
      "jokowi          911      320     329      262   28.76   36.11   35.13\n",
      "prabowo         856      318     304      234   27.34   35.51   37.15\n",
      "yang            667      252     127      288   43.18   19.04   37.78\n",
      "tidak           565      198     185      182   32.21   32.74   35.04\n",
      "gaji            549      227     153      169   30.78   27.87   41.35\n",
      "pak             480      217      87      176   36.67   18.12   45.21\n",
      "harga           456      170     148      138   30.26   32.46   37.28\n",
      "presiden        405      144     132      129   31.85   32.59   35.56\n",
      "sandi           385      160     151       74   19.22   39.22   41.56\n"
     ]
    }
   ],
   "source": [
    "# Buat DataFrame untuk memetakan kata dan sentimen\n",
    "word_sentiments = []\n",
    "for idx, row in df.iterrows():\n",
    "    words_in_tweet = row['tweet_lemmatized'].split()\n",
    "    for word in words_in_tweet:\n",
    "        if word in most_common_df['word'].values:\n",
    "            word_sentiments.append({'word': word, 'sentimen': row['sentimen']})\n",
    "\n",
    "# Buat DataFrame dari hasil word_sentiments\n",
    "word_sentiments_df = pd.DataFrame(word_sentiments)\n",
    "\n",
    "# Buat pivot table\n",
    "pivot = pd.pivot_table(word_sentiments_df, index='word', columns='sentimen', aggfunc='size', fill_value=0)\n",
    "\n",
    "# Hitung total tweet per kata\n",
    "pivot['Jml_Tweet'] = pivot.sum(axis=1)\n",
    "\n",
    "# Hitung persentase per sentimen\n",
    "pivot['% Ngtf'] = round((pivot.get('negatif', 0) / pivot['Jml_Tweet']) * 100,2)\n",
    "pivot['% Netr'] = round((pivot.get('netral', 0) / pivot['Jml_Tweet']) * 100,2)\n",
    "pivot['% Pstf'] = round((pivot.get('positif', 0) / pivot['Jml_Tweet']) * 100,2)\n",
    "\n",
    "# Urutkan berdasarkan total tweet terbanyak\n",
    "pivot = pivot.sort_values(by='Jml_Tweet', ascending=False)\n",
    "\n",
    "# Atur ulang urutan kolom: Total_Tweets sebelum sentimen negatif, netral, positif\n",
    "pivot = pivot[['Jml_Tweet', 'positif', 'netral', 'negatif', '% Ngtf', '% Netr', '% Pstf']]\n",
    "\n",
    "# Cetak pivot table\n",
    "print(pivot)"
   ],
   "metadata": {
    "collapsed": false,
    "ExecuteTime": {
     "end_time": "2024-09-26T08:42:49.442156300Z",
     "start_time": "2024-09-26T08:42:48.717388300Z"
    }
   }
  },
  {
   "cell_type": "code",
   "execution_count": 56,
   "outputs": [],
   "source": [
    "from sklearn.model_selection import train_test_split\n",
    "from gensim.models import Word2Vec\n",
    "from sklearn.metrics import accuracy_score, f1_score, classification_report\n",
    "from sklearn.ensemble import RandomForestClassifier\n",
    "from sklearn.model_selection import GridSearchCV\n",
    "from sklearn.preprocessing import StandardScaler\n",
    "import pickle"
   ],
   "metadata": {
    "collapsed": false,
    "ExecuteTime": {
     "end_time": "2024-09-26T08:42:49.482378600Z",
     "start_time": "2024-09-26T08:42:49.445453100Z"
    }
   }
  },
  {
   "cell_type": "code",
   "execution_count": 78,
   "outputs": [],
   "source": [
    "def tokenize(tweet):\n",
    "    return nltk.word_tokenize(tweet.lower())\n",
    "\n",
    "df['cleaned_tweet'] = df['tweet_stemming'].apply(tokenize)\n",
    "\n",
    "# Step 3: Word2Vec - Training a Word2Vec model (Skipgram)\n",
    "sentences = df['cleaned_tweet'].tolist()\n"
   ],
   "metadata": {
    "collapsed": false,
    "ExecuteTime": {
     "end_time": "2024-09-26T11:42:31.413725400Z",
     "start_time": "2024-09-26T11:42:31.093942500Z"
    }
   }
  },
  {
   "cell_type": "code",
   "execution_count": 79,
   "outputs": [
    {
     "name": "stdout",
     "output_type": "stream",
     "text": [
      "0    [kata, prabowo, indonesia, tidak, harga, bangs...\n",
      "1    [batu, langka, tasbih, jokowi, hadiah, dari, h...\n",
      "2    [di, era, jokowi, ekonomi, indonesia, makin, b...\n",
      "3    [bagi, sumatera, selatan, asi, games, dampak, ...\n",
      "4    [negara, kita, ngutang, buat, bngun, infrastru...\n",
      "Name: cleaned_tweet, dtype: object\n"
     ]
    }
   ],
   "source": [
    "print(df['cleaned_tweet'].head())"
   ],
   "metadata": {
    "collapsed": false,
    "ExecuteTime": {
     "end_time": "2024-09-26T11:42:44.607499200Z",
     "start_time": "2024-09-26T11:42:44.494947700Z"
    }
   }
  },
  {
   "cell_type": "code",
   "execution_count": 80,
   "outputs": [
    {
     "name": "stdout",
     "output_type": "stream",
     "text": [
      "Fitting 10 folds for each of 16 candidates, totalling 160 fits\n",
      "Train Accuracy: 69.76%\n",
      "Validation Accuracy: 57.35%\n",
      "Test Accuracy: 58.24%\n",
      "\n",
      "Classification Report (Train):\n",
      "               precision    recall  f1-score   support\n",
      "\n",
      "     negatif       0.66      0.83      0.73       429\n",
      "      netral       0.74      0.70      0.72       438\n",
      "     positif       0.72      0.56      0.63       403\n",
      "\n",
      "    accuracy                           0.70      1270\n",
      "   macro avg       0.70      0.69      0.69      1270\n",
      "weighted avg       0.70      0.70      0.69      1270\n",
      "\n",
      "\n",
      "Classification Report (Validation):\n",
      "               precision    recall  f1-score   support\n",
      "\n",
      "     negatif       0.54      0.67      0.60        85\n",
      "      netral       0.53      0.63      0.58        75\n",
      "     positif       0.66      0.46      0.54       112\n",
      "\n",
      "    accuracy                           0.57       272\n",
      "   macro avg       0.58      0.59      0.57       272\n",
      "weighted avg       0.59      0.57      0.57       272\n",
      "\n",
      "\n",
      "Classification Report (Test):\n",
      "               precision    recall  f1-score   support\n",
      "\n",
      "     negatif       0.52      0.66      0.58        82\n",
      "      netral       0.61      0.63      0.62        94\n",
      "     positif       0.62      0.47      0.54        97\n",
      "\n",
      "    accuracy                           0.58       273\n",
      "   macro avg       0.59      0.59      0.58       273\n",
      "weighted avg       0.59      0.58      0.58       273\n",
      "\n",
      "Out-of-Bag Score: 0.5692913385826772\n"
     ]
    }
   ],
   "source": [
    "w2v_model = Word2Vec(sentences, vector_size=100, window=6, sg=1, min_count=1)\n",
    "\n",
    "def get_vector_representation(tweet, model, vector_size=100):\n",
    "    vectors = [model.wv[word] for word in tweet if word in model.wv]\n",
    "    if len(vectors) == 0:\n",
    "        return np.zeros(vector_size)\n",
    "    return np.mean(vectors, axis=0)\n",
    "\n",
    "df['tweet_vector'] = df['cleaned_tweet'].apply(lambda x: get_vector_representation(x, w2v_model))\n",
    "\n",
    "# Step 4: Prepare train, validation, test sets\n",
    "X = np.vstack(df['tweet_vector'].values)\n",
    "y = df['sentimen']  # Target column for sentiment\n",
    "\n",
    "X_train, X_temp, y_train, y_temp = train_test_split(X, y, test_size=0.3, random_state=42)\n",
    "X_val, X_test, y_val, y_test = train_test_split(X_temp, y_temp, test_size=0.5, random_state=42)\n",
    "\n",
    "# Step 5: Feature Scaling\n",
    "scaler = StandardScaler()\n",
    "X_train_scaled = scaler.fit_transform(X_train)\n",
    "X_val_scaled = scaler.transform(X_val)\n",
    "X_test_scaled = scaler.transform(X_test)\n",
    "\n",
    "# Step 6: Hyperparameter tuning with GridSearchCV for RandomForest (with reduced complexity)\n",
    "param_grid = {\n",
    "    'n_estimators': [100, 300],            # Reduce the number of trees\n",
    "    'max_depth': [10, 50],               # Limit the depth of the trees\n",
    "    'min_samples_split': [0.04, 0.08],        # Increase the minimum samples required to split a node\n",
    "    'min_samples_leaf': [0.01, 0.02],         # Increase the minimum samples at a leaf node\n",
    "    'max_features': ['sqrt'],             # Limit the number of features considered at each split\n",
    "    'bootstrap': [True],\n",
    "    'oob_score': [True],                  # Use Out-of-Bag samples for validation\n",
    "}\n",
    "\n",
    "rf = RandomForestClassifier(random_state=42)\n",
    "\n",
    "# GridSearch with 5-fold cross-validation\n",
    "grid_search = GridSearchCV(estimator=rf, param_grid=param_grid, cv=10, scoring='accuracy', n_jobs=-1, verbose=3)\n",
    "grid_search.fit(X_train_scaled, y_train)\n",
    "\n",
    "# Step 7: Get the best model after tuning\n",
    "best_rf = grid_search.best_estimator_\n",
    "\n",
    "# Step 8: Model Evaluation on Train, Val, Test sets\n",
    "y_train_pred = best_rf.predict(X_train_scaled)\n",
    "y_val_pred = best_rf.predict(X_val_scaled)\n",
    "y_test_pred = best_rf.predict(X_test_scaled)\n",
    "\n",
    "# Step 9: Print accuracy for train, val, and test sets\n",
    "train_accuracy = accuracy_score(y_train, y_train_pred)\n",
    "val_accuracy = accuracy_score(y_val, y_val_pred)\n",
    "test_accuracy = accuracy_score(y_test, y_test_pred)\n",
    "\n",
    "print(f\"Train Accuracy: {train_accuracy * 100:.2f}%\")\n",
    "print(f\"Validation Accuracy: {val_accuracy * 100:.2f}%\")\n",
    "print(f\"Test Accuracy: {test_accuracy * 100:.2f}%\")\n",
    "\n",
    "# Print classification reports\n",
    "print(\"\\nClassification Report (Train):\\n\", classification_report(y_train, y_train_pred))\n",
    "print(\"\\nClassification Report (Validation):\\n\", classification_report(y_val, y_val_pred))\n",
    "print(\"\\nClassification Report (Test):\\n\", classification_report(y_test, y_test_pred))\n",
    "\n",
    "# Check OOB Score\n",
    "print(\"Out-of-Bag Score:\", best_rf.oob_score_)"
   ],
   "metadata": {
    "collapsed": false,
    "ExecuteTime": {
     "end_time": "2024-09-26T11:43:52.015164400Z",
     "start_time": "2024-09-26T11:42:58.064547700Z"
    }
   }
  },
  {
   "cell_type": "code",
   "execution_count": 81,
   "outputs": [],
   "source": [
    "import joblib\n",
    "\n",
    "# Save the best RandomForest model and scaler\n",
    "joblib.dump(best_rf, 'model/rf_sw_word2vec_sg.pkl')\n",
    "joblib.dump(scaler, 'model/scaller_rf_sw.pkl')\n",
    "\n",
    "w2v_model.save(\"model/w2v_model.bin\")"
   ],
   "metadata": {
    "collapsed": false,
    "ExecuteTime": {
     "end_time": "2024-09-26T11:44:05.244277200Z",
     "start_time": "2024-09-26T11:44:05.014301700Z"
    }
   }
  },
  {
   "cell_type": "code",
   "execution_count": 83,
   "outputs": [
    {
     "name": "stdout",
     "output_type": "stream",
     "text": [
      "Kata-kata dalam model: ['ekonomi', 'yang', 'jokowi', 'prabowo', 'dan', 'tidak', 'di', 'gaji', 'pak', 'harga', 'ðÿ', 'presiden', 'itu', 'â', 'sandi', 'ini', 'jadi', 'salah', 'indonesia', 'akan', 'untuk', 'saya', 'kalau', 'ambil', 'bisa', 'tapi', 'rakyat', 'dengan', 'ada', 'saja', 'mau', 'pilih', 'negara', 'ke', 'iya', 'bukan', 'gak', 'sudah', 'dari', 'juga', 'karena', 'kita', 'kerja', 'belum', 'apa', 'ga', 'sama', 'debat', 'baik', 'jika', 'kata', 'pimpin', 'bangun', 'pada', 'lebih', 'buat', 'sandiuno', 'nya', 'tumbuh', 'orang', 'kami', 'dalam', 'hanya', 'mereka', 'janji', 'lagi', 'kamu', 'makro', 'dia', 'bapak', 'banyak', 'tahun', 'perintah', 'saat', 'seperti', 'soal', 'harus', 'pajak', 'naik', 'semua', 'arah', 'jangan', 'game', 'bilang', 'satu', 'adalah', 'jelas', 'anda', 'anak', 'kan', 'tingkat', 'masih', 'lain', 'aku', 'nyata', 'sangat', 'bagai', 'lihat', 'bahkan', 'turun', 'hasil', 'bangsa', 'pokok', 'dapat', 'cara', 'cuma', 'kepada', 'bagi', 'bicara', 'dukung', 'usaha', 'lah', 'besar', 'sby', 'bahan', 'beri', 'oleh', 'ingin', 'terima', 'baru', 'lama', 'murah', 'bayar', 'tahu', 'mana', 'terus', 'sampai', 'dr', 'menang', 'allah', 'kok', 'atau', 'digital', 'tanya', 'maju', 'beliau', 'masalah', 'sebut', 'dulu', 'tani', 'pasti', 'benar', 'infrastruktur', 'tusuk', 'mikro', 'penting', 'sumbang', 'wowo', 'pun', 'telah', 'sekarang', 'jalan', 'masuk', 'main', 'bang', 'masyarakat', 'bahas', 'mahal', 'memang', 'capres', 'butuh', 'bahwa', 'mobile', 'punya', 'paham', 'laku', 'sejahtera', 'kaum', 'uang', 'masa', 'dunia', 'sendiri', 'era', 'diri', 'sandiaga', 'pakai', 'jawab', 'legend', 'pangan', 'hal', 'tentang', 'capai', 'e', 'pikir', 'siapa', 'fokus', 'miskin', 'nanti', 'sih', 'beli', 'bukti', 'langsung', 'perata', 'para', 'minta', 'wakil', 'perlu', 'mati', 'sembilan', 'kaya', 'makin', 'adil', 'dhuafa', 'moga', 'seluruh', 'kartu', 'si', 'listrik', 'beda', 'ibu', 'kasih', 'akhir', 'bikin', 'kecil', 'bijak', 'kalian', 'depan', 'dua', 'org', 'pernah', 'nilai', 'erti', 'mampu', 'arti', 'april', 'lalu', 'rupiah', 'kembang', 'industri', 'pilpres', 'begitu', 'kenapa', 'bagaimana', 'yatim', 'kali', 'isu', 'jabat', 'sport', 'balik', 'banget', 'sdh', 'dahulu', 'dg', 'tps', 'mungkin', 'hidup', 'gk', 'komitmen', 'tol', 'kurang', 'hati', 'program', 'sedang', 'tuju', 'raja', 'contoh', 'tanpa', 'jual', 'coblos', 'bbm', 'ri', 'berapa', 'ma', 'makan', 'nkri', 'deh', 'uno', 'tuh', 'emang', 'tetap', 'dong', 'paling', 'makanya', 'sekali', 'amin', 'demokrat', 'luar', 'bidang', 'subsidi', 'namun', 'ikut', 'coba', 'atas', 'negeri', 'ketika', 'gagal', 'rasa', 'kuat', 'utama', 'tutup', 'bohong', 'waktu', 'tunjang', 'ajar', 'susah', 'hari', 'kreatif', 'jangkau', 'kuasa', 'selalu', 'sepakat', 'sehingga', 'mas', 'ubah', 'yakin', 'makmur', 'salman', 'demi', 'jauh', 'agar', 'impor', 'hebat', 'mudah', 'kembali', 'lewat', 'pihak', 'menteri', 'siap', 'kelola', 'dasar', 'paslon', 'tentu', 'dampak', 'mantap', 'nasional', 'sok', 'padahal', 'periode', 'tiap', 'biar', 'jaman', 'hadap', 'kampanye', 'ikhlas', 'bagus', 'duit', 'buah', 'desa', 'turut', 'peser', 'lapang', 'malam', 'esport', 'bawah', 'per', 'biasa', 'maksud', 'urus', 'dlm', 'kondisi', 'tegas', 'cukup', 'gitu', 'tolong', 'games', 'untung', 'tambah', 'khusus', 'stabil', 'otak', 'ruf', 'suara', 'pribadi', 'percaya', 'deindustrialisasi', 'sehat', 'amanah', 'ulama', 'harta', 'udh', 'keluh', 'tax', 'keluar', 'lanjut', 'boleh', 'juta', 'tetapi', 'suka', 'pa', 'hancur', 'saudara', 'keluarga', 'karyawan', 'ayo', 'duafa', 'bantu', 'pertama', 'ikan', 'kelas', 'data', 'bangga', 'betul', 'bowo', 'partai', 'maka', 'hak', 'amal', 'bila', 'kena', 'datang', 'pas', 'cari', 'cawapres', 'bisnis', 'tadi', 'serta', 'politik', 'ribu', 'rumah', 'ganti', 'daerah', 'nomor', 'wapres', 'om', 'akibat', 'liter', 'trus', 'global', 'meski', 'tangan', 'prestasi', 'milik', 'jae', 'tinggi', 'solusi', 'mata', 'bodoh', 'pancasila', 'ingat', 'rb', 'dengar', 'cinta', 'bulan', 'lbh', 'mikir', 'harap', 'beberapa', 'ratio', 'suatu', 'ente', 'calon', 'buka', 'temu', 'mobil', 'nama', 'sedekah', 'dana', 'sulit', 'apalagi', 'sosial', 'aman', 'lepas', 'kontribusi', 'hutang', 'juang', 'dagang', 'optimis', 'daulat', 'g', 'gin', 'zaman', 'fakir', 'papua', 'rezim', 'bos', 'gede', 'š', 'ps', 'subianto', 'guru', 'bawa', 'koalisi', 'nah', 'daya', 'pasang', 'jk', 'produksi', 'sbg', 'sistem', 'sedia', 'terlalu', 'hukum', 'pakde', 'berani', 'sektor', 'sial', 'yaitu', 'ahli', 'china', 'rendah', 'awal', 'bakal', 'utang', 'antara', 'orientasi', 'serang', 'sayang', 'the', 'kritik', 'kayak', 'keras', 'jaga', 'roket', 'alhamdulillah', 'kait', 'via', 'jakarta', 'profesional', 'perhati', 'fakta', 'kalah', 'tiket', 'rela', 'muda', 'sebab', 'karet', 'gerak', 'jt', 'sejak', 'korupsi', 'kemarin', 'teriak', 'pandang', 'niat', 'tema', 'jujur', 'tinggal', 'amat', 'banding', 'emak', 'serah', 'skrg', 'didik', 'tulus', 'insyaallah', 'guna', 'pengaruh', 'tertawa', 'mulai', 'urut', 'informasi', 'ujung', 'persen', 'takut', 'hahaha', 'berita', 'bumn', 'cipta', 'warga', 'tahan', 'lupa', 'no', 'sesuai', 'sejarah', 'suruh', 'ngaji', 'mbak', 'maaf', 'mrk', 'anggap', 'alam', 'air', 'ilmu', 'enak', 'fundamental', 'wujud', 'keren', 'tanda', 'video', 'konsumen', 'timpang', 'inflasi', 'sementara', 'putar', 'tunggal', 'penuh', 'kubu', 'closing', 'alas', 'jumlah', 'tepat', 'gajih', 'gampang', 'online', 'rugi', 'yah', 'statement', 'pesawat', 'anggur', 'segala', 'akbar', 'cm', 'manfaat', 'benteng', 'hingga', 'saling', 'nikmat', 'potensi', 'proyek', 'percuma', 'selesai', 'jalur', 'laki', 'fitnah', 'integritas', 'baca', 'mu', 'tenang', 'buruh', 'bung', 'malu', 'kilah', 'milu', 'citra', 'apakah', 'orba', 'swt', 'jkw', 'dungu', 'tanah', 'asing', 'beras', 'rata', 'allahu', 'walau', 'uud', 'subhanallah', 'asi', 'kiani', 'kepala', 'syariah', 'sosok', 'kyai', 'asal', 'lemah', 'manusia', 'sungguh', 'ngehoaks', 'senang', 'peduli', 'm', 'bu', 'tu', 'cc', 'warta', 'he', 'gmn', 'wong', 'mah', 'ml', 'mohon', 'imbang', 'ragu', 'swasembada', 'sini', 'jiwa', 'p', 'pasar', 'bebas', 'prioritas', 'jahat', 'andil', 'honorer', 'mula', 'masya', 'ala', 'karyawannya', 'doang', 'ahy', 'selenggara', 'asli', 'tahap', 'panen', 'gamers', 'papar', 'kma', 'puluh', 'kertas', 'gara', 'wajib', 'pdb', 'umur', 'mari', 'cina', 'gemar', 'wakaf', 'singgung', 'cepat', 'angkat', 'tim', 'th', 'sisi', 'final', 'terimakasih', 'salam', 'tanggal', 'it', 'abdi', 'aamiin', 'macam', 'anggar', 'oposisi', 'lawan', 'tolol', 'president', 'kasi', 'rp', 'ya', 'tekan', 'naikin', 'begini', 'kapan', 'rupa', 'ekspor', 'pubg', 's', 'ujar', 'budaya', 'supaya', 'strategi', 'hormat', 'pns', 'peluang', 'milenial', 'insya', 'hitung', 'isi', 'šðÿ', 'kelamin', 'ika', 'cebong', 'wkwkwk', 'lho', 'tenaga', 'trans', 'soeharto', 'gas', 'sederhana', 'to', 'hubung', 'kira', 't', 'raih', 'kasihan', 'jawa', 'umat', 'doa', 'yuk', 'target', 'sana', 'damai', 'indo', 'pecat', 'visi', 'internasional', 'justru', 'dar', 'investasi', 'hapus', 'dki', 'milih', 'dirut', 'benci', 'bahagia', 'tetep', 'rt', 'gtu', 'tunjuk', 'spbu', 'misi', 'nyambung', 'jaya', 'puncak', 'minggu', 'modal', 'kualitas', 'import', 'mulia', 'kuliah', 'œ', 'korban', 'buruk', 'tempat', 'layak', 'bangkit', 'bolak', 'tarik', 'triliun', 'misal', 'suami', 'titik', 'ulang', 'umum', 'pres', 'pks', 'trump', 'elo', 'ah', 'asia', 'ia', 'pecah', 'you', 'laksana', 'negri', 'hina', 'tahana', 'nasib', 'antar', 'teman', 'orde', 'ratus', 'cocok', 'sedikit', 'teknologi', 'pgn', 'barang', 'pariwisata', 'sumatera', 'se', 'halal', 'semata', 'katung', 'a', 'fasilitas', 'ganggu', 'asn', 'setelag', 'sumatra', 'tunggu', 'yaa', 'ï', 'wkwk', 'daripada', 'sadar', 'tetangga', 'luas', 'arab', 'mesti', 'mikirin', 'produk', 'sm', 'masyaallah', 'bocor', 'silah', 'posisi', 'sekadar', 'lapar', 'berat', 'jebak', 'simpati', 'wajar', 'kabupaten', 'profesi', 'operasional', 'agama', 'faktor', 'ucap', 'ttp', 'situ', 'cerdas', 'waras', 'nila', 'sempat', 'potong', 'ibarat', 'anugerah', 'bank', 'tarif', 'cek', 'militer', 'slh', 'raya', 'bilateral', 'œðÿ', 'sekolah', 'hampir', 'berantas', 'proses', 'pulau', 'normal', 'alami', 'do', 'hadir', 'bela', 'sedih', 'sakit', 'habis', 'komisaris', 'ngajarin', 'tua', 'demokrasi', 'gbk', 'nusantara', 'timur', 'jam', 'motor', 'kawasan', 'islam', 'jamin', 'pondasi', 'hilang', 'mandiri', 'lancar', 'wilayah', 'apbn', 'dn', 'boss', 'from', 'adu', 'duduk', 'tidur', 'ngak', 'giat', 'bpjs', 'ide', 'anti', 'batas', 'now', 'anjlok', 'w', 'gaya', 'tanggung', 'krna', 'tkn', 'widodo', 'heran', 'jasa', 'al', 'tanggap', 'umr', 'alat', 'serap', 'wah', 'sejati', 'walaupun', 'istri', 'harto', 'junjung', 'ngutang', 'kenal', 'langkah', 'ku', 'news', 'bayi', 'belah', 'gelar', 'joko', 'olahraga', 'laut', 'b', 'solo', 'bina', 'rusak', 'hmmm', 'istilah', 'lumayan', 'apresiasi', 'empat', 'nelayan', 'gubernur', 'atlet', 'eh', 'of', 'pantesan', 'papers', 'lima', 'dewi', 'kpk', 'and', 'unggul', 'dedi', 'cerita', 'ken', 'dorong', 'jajan', 'biaya', 'tiongkok', 'lap', 'ƒ', 'neh', 'saing', 'cucu', 'istana', 'h', 'oke', 'kroni', 'generasi', 'agen', 'hobi', 'semangat', 'tonton', 'sekitar', 'kendara', 'masing', 'sering', 'hujat', 'plongo', 'gila', 'semenjak', 'developer', 'nyungsep', 'prabowoâ', 'amburadul', 'kader', 'x', 'tugas', 'mapan', 'v', 'mrka', 'acara', 'anggota', 'output', 'piatu', 'pupuk', 'akal', 'nonton', 'goyah', 'sandiunoâ', 'toh', 'pph', 'kini', 'zon', 'mebel', 'mjd', 'sblm', 'sang', 'santun', 'ekonom', 'omong', 'elite', 'sawah', 'bego', 'macro', 'aduh', 'serius', 'drpd', 'ž', 'tengah', 'belakang', 'warung', 'dekat', 'real', 'paksa', 'bandara', 'demikian', 'efek', 'lindung', 'smp', 'energi', 'garing', 'senjata', 'ktp', 'aneh', 'an', 'sandy', 'tiga', 'buta', 'raga', 'pahala', 'tanam', 'pinter', 'kolam', 'donald', 'bantah', 'sumber', 'ulah', 'saudi', 'topang', 'kg', 'nyalahin', 'sdm', 'ko', 'salut', 'langit', 'berkat', 'sukses', 'carut', 'marut', 'tawar', 'cuman', 'saham', 'kampung', 'sia', 'positif', 'realisasi', 'logika', 'milyaran', 'legends', 'balas', 'pakar', 'kerjasama', 'ƒðÿ', 'kota', 'kabul', 'tipu', 'liput', 'kagum', 'aplikasi', 'stop', 'hadiah', 'asa', 'bajing', 'tuduh', 'cita', 'riil', 'olah', 'kacau', 'kantong', 'transfer', 'poin', 'bunuh', 'kunci', 'tuding', 'tni', 'segera', 'unjung', 'negarawan', 'bingung', 'badan', 'marah', 'wagub', 'akun', 'malaysia', 'konstruksi', 'wo', 'padi', 'lalap', 'bhw', 'bentuk', 'in', 'garis', 'tenggara', 'wadah', 'pamungkas', 'bapa', 'tri', 'tas', 'media', 'tata', 'model', 'sombong', 'lha', 'hiks', 'putus', 'unicorn', 'pintar', 'foto', 'for', 'benah', 'sore', 'panama', 'sabar', 'tumpu', 'defisit', 'probowo', 'dngan', 'mmg', 'lengkap', 'tka', 'ketua', 'hutan', 'micro', 'lulus', 'plonga', 'rawan', 'simpul', 'lengser', 'sabang', 'ngk', 'argumen', 'produktif', 'sya', 'sudut', 'vs', 'tweet', 'ajak', 'rencana', 'upaya', 'garam', 'that', 'fatal', 'boneka', 'publik', 'tega', 'basis', 'kejar', 'iriana', 'abang', 'ungkap', 'uu', 'kalimat', 'prediksi', 'agraris', 'loh', 'kalang', 'selamat', 'tuk', 'taat', 'bakar', 'kancah', 'ramai', 'jidat', 'cegah', 'kasus', 'curang', 'paket', 'best', 'beres', 'sindir', 'alih', 'netizen', 'nalar', 'singapore', 'arus', 'alir', 'drastis', 'guncang', 'status', 'mental', 'esports', 'tegak', 'jago', 'prabowosandi', 'tampak', 'wisata', 'syukur', 'skak', 'kemudian', 'maruf', 'merespon', 'sekaligus', 'gaes', 'sandang', 'emg', 'basi', 'tuntut', 'skala', 'venezuela', 'mikirnya', 'bhineka', 'lae', 'konteks', 'puruk', 'on', 'nyinyir', 'tum', 'kabinet', 'keliling', 'neraca', 'macet', 'gusdur', 'sebar', 'fadli', 'hindar', 'pasal', 'me', 'persh', 'karya', 'gugat', 'males', 'bhinneka', 'denger', 'sikap', 'lokal', 'sebentar', 'motif', 'dipake', 'limpah', 'moba', 'golong', 'aseng', 'nambah', 'sawit', 'utara', 'komit', 'pt', 'catat', 'wawas', 'kunjung', 'pantas', 'surga', 'lipat', 'maritim', 'lari', 'topik', 'kaki', 'smua', 'lucu', 'darimana', 'is', 'kuda', 'inti', 'konsep', 'belanja', 'gandeng', 'roda', 'narasi', 'susu', 'elit', 'perut', 'dota', 'gratis', 'putih', 'indah', 'detik', 'tulis', 'teori', 'moment', 'alangkah', 'gagas', 'digituin', 'faham', 'world', 'komentar', 'ketemu', 'žðÿ', 'freeport', 'toko', 'skincare', 'profesor', 'labuh', 'full', 'aje', 'berkah', 'amnesty', 'kumpul', 'millenial', 'uas', 'tera', 'kristen', 'dng', 'efektif', 'holding', 'ilah', 'persis', 'mafia', 'mengapa', 'bunyi', 'gilir', 'infra', 'please', 'stagnan', 'emas', 'cmn', 'driver', 'gembor', 'alias', 'domba', 'sepi', 'ongkos', 'garuda', 'hahahaha', 'miris', 'ukur', 'segi', 'terap', 'infrastuktur', 'sholat', 'lantik', 'nothing', 'tukar', 'libur', 'kosong', 'top', 'agak', 'wajah', 'tutur', 'ok', 'tangis', 'awas', 'tolak', 'ngomongnya', 'reformasi', 'ngajari', 'jokowiðÿ', 'skrng', 'muka', 'tantang', 'walikota', 'melek', 'dwi', 'apabila', 'kabar', 'haram', 'domestik', 'ae', 'goreng', 'merosot', 'masak', 'sepuh', 'digit', 'luka', 'distribusi', 'uda', 'said', 'mantul', 'upa', 'sepenuh', 'puji', 'siang', 'adik', 'tonjol', 'mahar', 'gelintir', 'mat', 'khas', 'pergi', 'honor', 'lebaran', 'buku', 'trimakasih', 'tangga', 'bismillah', 'salahuddin', 'ingkar', 'bini', 'ln', 'laju', 'minyak', 'guling', 'mandat', 'oce', 'komik', 'kapitalis', 'mia', 'bahasa', 'tara', 'kisar', 'merdeka', 'diajarin', 'pangkal', 'kocak', 'barangkali', 'kecewa', 'hardware', 'modern', 'bloon', 'sesal', 'asai', 'tdl', 'ngurusin', 'engkau', 'lahh', 'tindak', 'munafik', 'kirim', 'efisien', 'pola', 'muncul', 'lambat', 'betapa', 'orng', 'ngegame', 'tsb', 'diem', 'nyebar', 'lpg', 'pdhl', 'ngikutin', 'naek', 'entah', 'ehh', 'kangen', 'sembarang', 'rabu', 'rubah', 'merauke', 'make', 'sodaqoh', 'horang', 'hibur', 'gantung', 'preman', 'lantas', 'ngotot', 'analis', 'nuntut', 'ekonomis', 'ngaco', 'maâ', 'out', 'keliru', 'uji', 'emosi', 'rizal', 'bumi', 'gadiambil', 'layan', 'ngemplang', 'tentara', 'muslim', 'dengerlah', 'sri', 'jatuh', 'menag', 'lunasin', 'wanita', 'dikit', 'klu', 'jamu', 'samping', 'kaos', 'bangkrut', 'watching', 'i', 'ª', 'my', 'kejut', 'trsbt', 'jenderal', 'masjid', 'donk', 'lapor', 'pelihara', 'how', 'jelasin', 'pacar', 'pidato', 'saksi', 'sempurna', 'jatah', 'kompeten', 'kursi', 'minim', 'bp', 'bocah', 'melintir', 'letjen', 'biang', 'ªðÿ', 'dosa', 'klaim', 'segitu', 'fee', 'tangkap', 'kenyang', 'international', 'daftar', 'kawan', 'pikirin', 'singkat', 'rasio', 'koruptor', 'sayur', 'diam', 'buang', 'petinggi', 'support', 'ter', 'impact', 'sdg', 'receh', 'diamond', 'ˆ', 'pln', 'ahok', 'nepotisme', 'agam', 'gamer', 'dpr', 'eksploitasi', 'rangka', 'sah', 'tau', 'great', 'indonesian', 'leaders', 'ˆðÿ', 'pulang', 'ardy', 'jess', 'blunder', 'aja', 'pen', 'tlg', 'tanding', 'konsumsi', 'jari', 'langka', 'mantan', 'jejak', 'khilafah', 'pra', 'ramli', 'shock', 'angka', 'puasa', 'mekaar', 'asset', 'tirakat', 'tagih', 'inovatif', 'pakta', 'serba', 'besok', 'ngoceh', 'bekraf', 'sports', 'aspek', 'batu', 'bendung', 'jurus', 'parah', 'rajin', 'sekian', 'lejen', 'ulil', 'sambil', 'ngeri', 'sllu', 'tang', 'kesah', 'nyumbang', 'pengin', 'performa', 'api', 'dl', 'kertajati', 'gamenya', 'munajad', 'patriotik', 'trilyun', 'syaa', 'ajah', 'doyan', 'jl', 'semalem', 'iskan', 'dahlan', 'seorg', 'usah', 'mkn', 'goa', 'sblmnya', 'mna', 'sp', 'materi', 'esemka', 'luarbiasa', 'panggil', 'paradise', 'ciwi', 'kiat', 'cenderung', 'rangkul', 'toge', 'bas', 'unk', 'rekrut', 'hadeh', 'rusuh', 'deret', 'inshaa', 'jusuf', 'kalla', 'gembar', 'onlen', 'pegawai', 'bareng', 'jelma', 'psl', 'tukang', 'cerewet', 'bodo', 'cerewat', 'kurun', 'njenengan', 'pusat', 'serakah', 'madura', 'komoditas', 'republik', 'tuan', 'obat', 'trmsuk', 'atur', 'broo', 'komen', 'jelek', 'turn', 'rampok', 'smakin', 'puter', 'skarang', 'jaring', 'internet', 'hambat', 'gada', 'insentif', 'jangka', 'va', 'mudzakir', 'adek', 'krj', 'culik', 'hidayah', 'sir', 'beril', 'jokowâ', 'kelak', 'medis', 'pasien', 'ta', 'tasbih', 'lekat', 'pesona', 'sopan', 'telak', 'ngaciro', 'jainudin', 'bin', 'pensiun', 'lawas', 'iri', 'kendali', 'piara', 'kucing', 'muak', 'nikah', 'simple', 'duluan', 'gambar', 'wan', 'ajaib', 'pelan', 'ambisi', 'dy', 'sasar', 'mantab', 'wibawa', 'prabosan', 'nyebut', 'pelosok', 'ngidul', 'ngalor', 'segitunya', 'tali', 'pemerintahanya', 'gives', 'mayoritas', 'pulih', 'bpn', 'uah', 'den', 'kolusi', 'akhlak', 'ambilâ', 'diinfaqkan', 'cnn', 'walah', 'afa', 'kredit', 'ham', 'rapat', 'kilat', 'nyinyirin', 'syok', 'perban', 'seru', 'rau', 'walkout', 'mandataris', 'manis', 'bhs', 'kip', 'sangka', 'tipe', 'engga', 'your', 'nyentil', 'variabel', 'diturunin', 'ayam', 'kpu', 'fajar', 'tebar', 'okoce', 'pepes', 'wirausaha', 'dialog', 'ninu', 'lagend', 'elemen', 'timbul', 'gagap', 'dijadiin', 'dongok', 'ngeluh', 'infak', 'jempol', 'pemb', 'nice', 'produsen', 'power', 'bersodaqoh', 'sumitro', 'akn', 'insinyur', 'lbih', 'resmi', 'trend', 'fix', 'ampe', 'doktor', 'sopo', 'darurat', 'neg', 'konsisten', 'wkwkwkwk', 'sprt', 'mending', 'bgtu', 'khawatir', 'sapa', 'cs', 'swasta', 'platform', 'ustad', 'rabb', 'sarap', 'menantu', 'beneran', 'startup', 'libat', 'antek', 'lampu', 'makroekonomi', 'ijtimak', 'panjang', 'film', 'ari', 'kis', 'kadang', 'setor', 'saking', 'ciri', 'nomer', 'tionghoa', 'lainðÿ', 'raksasa', 'mundur', 'lipstik', 'mbok', 'klarifikasi', 'judul', 'ngepush', 'tegal', 'total', 'sepeda', 'pek', 'mall', 'kian', 'ning', 'alhamdullilah', 'kecut', 'ber', 'aset', 'ketaker', 'kawal', 'ummat', 'yaâ', 'wacana', 'undang', 'aruf', 'sawer', 'mimpi', 'by', 'izin', 'bengkak', 'kelg', 'jerit', 'bedain', 'peluk', 'infrastructure', 'tekad', 'kapal', 'promosi', 'mega', 'pesta', 'nitijen', 'individu', 'angkuh', 'nyungseb', 'neng', 'elektabilitas', 'dprd', 'pohon', 'sd', 'liat', 'teri', 'pulisi', 'mang', 'dimurahin', 'mungut', 'ekraf', 'nasi', 'renang', 'panitia', 'ngejelasin', 'belikan', 'rancang', 'iniðÿ', 'qu', 'senyum', 'amerika', 'hermes', 'kuku', 'na', 'pribumi', 'yaaa', 'ngakunya', 'pagi', 'produktivitas', 'maslahat', 'ngasal', 'thr', 'kejam', 'allohuakbar', 'laen', 'bukankah', 'bhkan', 'jenis', 'sandiwara', 'komunis', 'gembel', 'tiang', 'ternak', 'pdip', 'nge', 'irigasi', 'cabut', 'sembah', 'kubur', 'paguyuban', 'paspasan', 'agung', 'terjun', 'jelata', 'gus', 'gdp', 'riset', 'korut', 'iyaa', 'original', 'kerok', 'perang', 'markup', 'imbas', 'revitalisasi', 'pesimis', 'tiru', 'bintang', 'polos', 'dsb', 'nawacita', 'kondusif', 'industrialisasi', 'joran', 'missqueen', 'murni', 'jodoh', 'gabah', 'paja', 'ruang', 'bayur', 'titip', 'grafik', 'don', 'budak', 'sebelumâ²nya', 'pasu', 'protes', 'candu', 'minimal', 'im', 'skr', 'logistik', 'analisis', 'busung', 'ayah', 'konektivitas', 'lawak', 'uc', 'looo', 'umroh', 'pabrik', 'stabilitas', 'pakdhe', 'elektronik', 'baku', 'rong', 'lurah', 'alap', 'gebu', 'link', 'hotel', 'nyimak', 'bhk', 'simak', 'ikat', 'wkwkwkw', 'hektar', 'juki', 'getar', 'ampun', 'imitasi', 'maupun', 'perempuan', 'tambang', 'pc', 'xx', 'pinggang', 'masaâ', 'luncur', 'utng', 'bobot', 'berfikir', 'pamer', 'sarjana', 'pukul', 'cendana', 'nasehat', 'implementasi', 'atta', 'limit', 'referensi', 'gunung', 'kencang', 'tragedi', 'rem', 'infastruktur', 'iconik', 'legacy', 'faedah', 'berisik', 'kkn', 'nga', 'oalah', 'scope', 'matang', 'kiai', 'adi', 'sense', 'murh', 'sbgai', 'pbb', 'kasar', 'darah', 'ketimbang', 'hehehe', 'tabah', 'bla', 'bats', 'hoaks', 'damping', 'persepsi', 'curhat', 'wahai', 'hack', 'birokrasi', 'anies', 'woii', 'ban', 'ragam', 'mewah', 'adegan', 'poko', 'kawin', 'mulut', 'cincin', 'enam', 'sembuh', 'atw', 'prtmbuhan', 'kala', 'pantes', 'watak', 'âœšðÿ', 'pangkat', 'mk', 'level', 'go', 'naif', 'abai', 'batasin', 'milyar', 'hp', 'prbwo', 'amnesti', 'eko', 'kuota', 'ideologi', 'mimpin', 'bola', 'yai', 'spesifik', 'hrga', 'lowong', 'ind', 'slm', 'so', 'aspirasi', 'hyperlink', 'csis', 'hkti', 'mentok', 'suharto', 'tampil', 'ngitung', 'new', 'usung', 'kompak', 'koar', 'pemimpn', 'prakerja', 'prinsip', 'indikator', 'kakak', 'masyaaallah', 'politisasi', 'melulu', 'jajah', 'jngn', 'bawaslu', 'ipk', 'negatif', 'idiologi', 'konkret', 'adem', 'lada', 'sambung', 'sdhlah', 'kopi', 'olok', 'blas', 'krja', 'antisipasi', 'ekor', 'awat', 'paus', 'all', 'malas', 'obama', 'ngeruk', 'rengek', 'qasr', 'thailand', 'contohin', 'kuas', 'ketat', 'artis', 'asean', 'elus', 'dhe', 'sim', 'bubar', 'resiko', 'klean', 'gabung', 'kisah', 'karno', 'stand', 'santap', 'optimisme', 'ngumpulin', 'selain', 'detail', 'up', 'dompet', 'fransiskus', 'lelah', 'wa', 'malang', 'wudhu', 'bensin', 'tabung', 'mandi', 'denda', 'amit', 'planga', 'jok', 'rintang', 'lekas', 'gerombol', 'koperasi', 'jargon', 'playstore', 'payah', 'suram', 'referendum', 'tong', 'ekonomiðÿ', 'macan', 'juara', 'rakyak', 'palsu', 'when', 'cr', 'monopoli', 'karier', 'coc', 'goal', 'priode', 'papan', 'bisik', 'garap', 'turu', 'idn', 'pkh', 'lunas', 'tk', 'dikuliahin', 'bong', 'youtube', 'bibit', 'sampah', 'kebon', 'waris', 'terbang', 'harmonis', 'bobrok', 'pura', 'bayang', 'times', 'rantai', 'nurunin', 'rahman', 'bilng', 'basicnya', 'people', 'mertua', 'domisili', 'kecimpung', 'udeh', 'sinergi', 'analisanya', 'haji', 'batubara', 'buruhz', 'kelar', 'pinternya', 'bahlull', 'koalosinya', 'bericara', 'lingkung', 'erat', 'mkin', 'caci', 'monetize', 'com', 'percya', 'ponsel', 'nyaðÿ', 'sodaqohkan', 'tcoy', 'belagu', 'akidah', 'cetek', 'cabai', 'piala', 'iman', 'toreh', 'gasah', 'ckckckck', 'wslm', 'didpn', 'bing', 'pret', 'mudharatnya', 'petan', 'bawang', 'winter', 'karyawabx', 'kayah', 'tabur', 'gileee', 'maundi', 'seh', 'monggo', 'gps', 'akhlaq', 'andaðÿ', 'throneâ', 'yankayak', 'evil', 'winterâ', 'temennya', 'monetizing', 'woooyyy', 'jijik', 'angkut', 'banyakkkkk', 'presidem', 'concern', 'lebar', 'imf', 'bearti', 'kaleng', 'lambung', 'ejek', 'dsumbangkan', 'comberan', 'aamiinn', 'mateng', 'goublok', 'coming', 'angan', 'reparasi', 'libas', 'sikaleng', 'pasangin', 'narang', 'berangan', 'kompas', 'devisa', 'thrones', 'wlwpun', 'hendak', 'ajesih', 'mnang', 'nasabah', 'pesantren', 'astaga', 'ngacaaa', 'nginti', 'kelassss', 'ye', 'cela', 'pasok', 'akting', 'beetumpu', 'jumatanðÿ', 'ibadah', 'tmn', 'mengantam', 'klau', 'dismash', 'saiki', 'lonjak', 'podo', 'lemes', 'ektp', 'jessnolimit', 'trlbh', 'fakkk', 'pasca', 'agenda', 'pakdeee', 'ny', 'iso', 'ahirnya', 'ben', 'mangkane', 'mantulz', 'benerâ²', 'kerjoe', 'expdisi', 'soale', 'aa', 'swperti', 'jnji', 'gadget', 'bngun', 'die', 'munafiqun', 'plisss', 'selatan', 'at', 'tawbah', 'jongos', 'wifi', 'olh', 'mercy', 'luthfi', 'habib', 'gakmau', 'pngetahuan', 'dmn', 'hashim', 'heheheheee', 'shodaqoh', 'loncer', 'warnet', 'prabs', 'multilateral', 'perak', 'kerjasa', 'tampang', 'msih', 'bodohin', 'dijanjiin', 'mrpkan', 'ngimpi', 'jitu', 'buanyak', 'sgl', 'wirid', 'beeng', 'bisikin', 'cengkraman', 'nongkrong', 'pahlawan', 'diamanatkanâ', 'instan', 'juragan', 'pasigala', 'ygkgðÿ', 'gempa', 'ngeyel', 'ditinggiin', 'hubnya', 'bersodakoh', 'andal', 'mbodoni', 'dilewatin', 'hacker', 'menduking', 'kick', 'klrg', 'congkak', 'termsk', 'ane', 'busa', 'njop', 'register', 'sayah', 'lebik', 'ebong', 'mbangun', 'ngehujat', 'brubah', 'abg', 'ranting', 'gergaji', 'golok', 'tebang', 'mangkanya', 'ayoo', 'dinding', 'tempeleng', 'tempel', 'ladenin', 'donkk', 'gakan', 'jlnnya', 'truk', 'aliansi', 'nyx', 'kolonial', 'ora', 'sudi', 'kapok', 'akma', 'superkaya', 'alaikum', 'assalamu', 'purbasari', 'untk', 'realitanya', 'curup', 'vidya', 'makhluk', 'balau', 'bual', 'kedholiman', 'brharap', 'pjg', 'konotasi', 'bcr', 'sportif', 'khatam', 'faqir', 'vote', 'berfua', 'ustadz', 'abdul', 'shomad', 'dk', 'œuang', 'farkir', 'otomatis', 'mujahadah', 'rokok', 'kesejahteraaan', 'ngopi', 'suntuk', 'jengkol', 'gabisa', 'acak', 'unsur', 'yusuf', 'du', 'ambruk', 'thun', 'sembrang', 'nombok', 'dipikirin', 'sndr', 'dbahas', 'transaksi', 'omng', 'rubu', 'kerjaada', 'djawab', 'pertalite', 'mansur', 'mio', 'usut', 'ideal', 'kutip', 'smartphone', 'kjp', 'pjk', 'mbolak', 'mndiri', 'ä', 'bljr', 'okezone', 'kenang', 'jawani', 'surprise', 'pelita', 'exsekutif', 'excellent', 'fkir', 'z', 'gen', 'mpermalukan', 'smash', 'hpus', 'gji', 'parkir', 'class', 'masakan', 'ego', 'tnya', 'hiduppp', 'orbaaaa', 'rmol', 'mslah', 'unfol', 'zippo', 'sensi', 'masiv', 'antri', 'korek', 'gemilang', 'inisiatif', 'jerman', 'adikuasa', 'sebgai', 'obyek', 'murid', 'mention', 'mlh', 'dongkrak', 'pinggir', 'curiga', 'wina', 'holdang', 'lompat', 'tembus', 'diunfol', 'tegah', 'kebwh', 'sbagian', 'makane', 'kontraproduktif', 'rest', 'area', 'brsangkutan', 'masðÿ', 'spirit', 'transformasi', 'dakwah', 'subsidiðÿ', 'owo', 'idola', 'mandang', 'jokowidodo', 'pam', 'sengaja', 'seret', 'diadain', 'namane', 'yra', 'big', 'jakpro', 'wisatawan', 'tender', 'aga', 'gabayar', 'mahalðÿ', 'ojo', 'dumehðÿ', 'minus', 'âˆš', 'sponsor', 'sau', 'want', 'mobilegend', 'aceh', 'cemerlang', 'telepon', 'ngubah', 'state', 'subuh', 'jamaah', 'gaung', 'irit', 'psimis', 'transport', 'shalawat', 'dolar', 'dibutuhin', 'printilan', 'tenage', 'nyerap', 'yuuk', 'skill', 'menlu', 'denny', 'setpres', 'pencintraan', 'rajuddin', 'harahap', 'litah', 'dukugan', 'pingin', 'biro', 'pers', 'walapun', 'menghianati', 'puisi', 'barat', 'nnti', 'bertulng', 'kmren', 'rantau', 'rindu', 'ilc', 'sumattra', 'diksh', 'test', 'polri', 'ur', 'meriang', 'vice', 'bhn', 'semu', 'aral', 'myanmar', 'tito', 'kuno', 'padang', 'gaspol', 'konflik', 'tekhnologi', 'rohingya', 'getter', 'saud', 'perjuagan', 'abdulaziz', 'tempuh', 'cicil', 'miskinâ', 'kacaw', 'ecer', 'megah', 'jala', 'keutungan', 'nengara', 'masarakat', 'bowok', 'barg', 'distributor', 'idonesia', 'sepwrti', 'lampung', 'wrong', 'sehinga', 'wereng', 'coklat', 'memamg', 'if', 'ruah', 'jas', 'talangsari', 'saji', 'alm', 'bwjibun', 'seperserpun', 'maklum', 'kecuali', 'aaminnnn', 'moslem', 'mandhi', 'pabowo', 'nguntungin', 'udahhh', 'gajiðÿ', 'kayaaa', 'congggg', 'sujud', 'gakpapa', 'kelapa', 'eropa', 'jagal', 'correct', 'bner', 'gejolak', 'bangett', 'baitul', 'brbagai', 'batang', 'exit', 'plan', 'pecicilan', 'munafikun', 'consol', 'pertumbujan', 'yakni', 'masif', 'homo', 'kesejahteraanâ', 'repostmediaapp', 'ingaaaatðÿ', 'verpool', 'liga', 'luna', 'mal', 'ecomerce', 'šâ', 'fakultas', 'semester', 'kaffahnya', 'bpmi', 'legendaris', 'º', 'udahdeh', 'peratiin', 'kabare', 'tamwil', 'pripun', 'nano', 'piko', 'les', 'jalanðÿ', 'lucinta', 'charles', 'bmt', 'ojol', 'dur', 'nyapun', 'jateng', 'maroke', 'kendal', 'trbatasðÿ', 'kemjuan', 'jã¼al', 'kiaiðÿ', 'ganjar', 'lã', 'porprov', 'quran', 'mainkn', 'bimillaahirraohmaanirrohim', 'islami', 'nurani', 'sa', 'alur', 'tebak', 'counter', 'dewasa', 'gajinnya', 'ihlas', 'seleksi', 'fintech', 'kutub', 'coin', 'raup', 'gundul', 'mengstabilkan', 'iklan', 'masang', 'lik', 'privat', 'merica', 'perdu', 'fire', 'lomba', 'free', 'ijin', 'ngehapusin', 'pahamnga', 'gtgt', 'persona', 'muslimah', 'tak', 'plant', 'umbar', 'yessss', 'boring', 'nich', 'bwrambiai', 'pailit', 'naikâ', 'devisit', 'bã', 'jemarin', 'ziarah', 'dipengatuhi', 'judilnya', 'busyeettt', 'suudzon', 'netes', 'triltun', 'surat', 'et', 'yesss', 'tokoh', 'munifah', 'syanwani', 'tbg', 'prepare', 'pangkalanya', 'registrasi', 'enggak', 'pangeran', 'kmpung', 'ngsung', 'muhammad', 'sis', 'antik', 'henti', 'futuristik', 'revolusi', 'spot', 'mualaf', 'ceramah', 'mbah', 'bagak', 'muliani', 'persiden', 'smalam', 'geli', 'makany', 'blgin', 'min', 'au', 'sian', 'ho', 'mamillit', 'unang', 'hatami', 'amang', 'disalahin', 'toe', 'gamau', 'sanding', 'same', 'exactly', 'akutu', 'mobel', 'gandooss', 'jooss', 'siraah', 'ngeluu', 'jokowii', 'dodol', 'benam', 'hrsny', 'tukuu', 'airlines', 'ponidi', 'type', 'dian', 'rejim', 'beso', 'ponidibiar', 'drive', 'pajama', 'senayan', 'sumantri', 'darat', 'urung', 'bahaya', 'mandala', 'hayoo', 'duo', 'ngertu', 'bagaiamana', 'location', 'temporal', 'mechanism', 'empirical', 'condition', 'underwhat', 'presidenâ', 'alternatif', 'buanyaakk', 'majuin', 'penak', 'apik', 'bosny', 'price', 'mlintir', 'never', 'panas', 'emma', 'kak', 'stresss', 'dedeh', 'cicih', 'siska', 'sandiwarauno', 'embong', 'ngoahahaha', 'loker', 'anjak', 'stnk', 'venue', 'janjiin', 'taiwan', 'prc', 'nyungsepnya', 'pernyungsepan', 'ugm', 'kejiawaan', 'memjunjung', 'ayom', 'karisma', 'soekarno', 'pklihan', 'rekening', 'miliar', 'ekonomine', 'mustahil', 'dagangane', 'rameee', 'mebeel', 'kabeh', 'raaa', 'sepiii', 'paak', 'piyeeee', 'mebeeel', 'bebasin', 'ndasmulah', 'patriot', 'kaprah', 'manjain', 'supardi', 'infastuktur', 'jor', 'sendi', 'susun', 'personal', 'survei', 'irvani', 'smrc', 'direktur', 'ssbelum', 'spp', 'derivatif', 'cilebut', 'iba', 'petusahaan', 'dongðÿ', 'sumpah', 'cetar', 'salahin', 'masyaalloh', 'kaji', 'admin', 'bandaro', 'jely', 'erizeli', 'mudahin', 'untungny', 'nanyain', 'lenceng', 'pocong', 'memantabkan', 'bersih', 'indonesiaaaa', 'nyelametin', 'makanyaa', 'nantinyaa', 'asingg', 'trkhr', 'mreka', 'komment', 'hpl', 'kriminal', 'kilafah', 'brizik', 'nb', 'bahana', '²ðÿ', 'mberikannya', 'wkwkm', 'aremania', 'sewa', 'ngemis', 'hd', 'income', 'prajurit', 'genderuwo', 'sifat', 'dpn', 'kedpn', 'tos', 'menajdikan', 'smoga', 'ajudan', 'mngembngkn', 'sandiðÿ', 'kuy', 'yes', '½âœšðÿ', 'itjima', 'clossing', 'yaaakan', 'atus', 'sglntir', 'sperti', 'mndasar', 'prbaiki', 'prbowo', 'wadooo', 'mendptkan', 'saratoga', 'keepmimpinannya', 'why', 'sige', 'confussion', 'express', 'gon', 'just', 'haha', 'jeng', 'akumulasi', 'rapel', 'uups', 'kuping', 'poltak', 'py', 'his', 'diaebabkan', 'maksuf', 'kupas', 'cedera', 'sungkur', 'marwah', 'thohir', 'erick', 'semgat', 'dismpaiknnya', 'mmbuat', 'bakso', 'punah', 'economy', 'life', 'brdua', 'dimasalahin', 'brkomitmen', 'luasna', 'msyarakat', 'bkan', 'androidnya', 'touchten', 'dreadout', 'happynes', 'android', 'amiin', 'yth', 'barokallah', 'audit', 'bhwa', 'framing', 'memdukung', 'rumus', 'nian', 'kreatip', 'lagiðÿ', 'nerusin', 'donasi', 'comen', 'aza', 'leeemeess', 'gawean', 'fadlin', 'obyektivitas', 'yapi', 'sukarela', 'even', 'duuuh', 'krisis', 'gempur', 'kerennn', 'them', 'say', 'untukâ', 'kesehahteraan', 'menggeneralisir', 'parameter', 'finance', 'islamic', 'kemban', 'knks', 'meubel', 'deklarasi', 'akanâ', 'mudorat', 'pmbawah', 'bxk', 'lpngan', 'ttng', 'dismpaikan', 'dhu', 'california', 'kemudi', 'reference', 'lagu', 'tumpuk', 'komunitas', 'cabang', 'adab', 'knapa', 'handle', 'saididu', 'semrawut', 'benerin', 'souw', 'michael', 'youtuber', 'player', 'ngasilin', 'download', 'bambaang', 'majunyaa', 'pwrtanian', 'etc', 'simpatisan', 'ngangkat', 'heuu', 'yakk', 'kesejahreraan', 'megkeritik', 'bulak', 'its', 'mister', 'salute', 'eksekusi', 'saudari', 'upah', 'menggambil', 'busuk', 'gakbmau', 'tar', 'sebelumâ', 'pemerinta', 'nyatnaya', 'pindah', 'lhooo', 'gadang', 'namnya', 'daniel', 'dibeliin', 'plus', 'njamin', 'dikuasain', 'agraria', 'cuplik', 'timpa', 'senantiasa', 'jls', 'expor', 'junam', 'biuktinya', 'tai', 'pantat', 'pengguran', 'bngt', 'dtmbah', 'pajang', 'tidk', 'kalai', 'gaminta', 'cadasss', 'rahmat', 'eknoomi', 'gun', 'karuan', 'ngerusak', 'jaee', 'subtansinya', 'baper', 'brooo', 'jokowiâ', 'wowow', 'gugatâ', 'rawat', 'kebhinekaan', 'belaka', 'kepemiminannya', 'frekwensi', 'remah', 'udara', 'sumberdaya', 'umkm', 'asprindo', 'bumiputera', 'asosiasi', 'rais', 'amien', 'return', 'legenda', 'smlm', 'habibie', 'ever', 'move', 'pawang', 'ngebangun', 'jagung', 'magnet', 'senjang', 'perkara', 'lamar', 'kamiâ', 'leleh', 'membagun', 'presidenâ²', 'trik', 'kontroversi', 'letak', 'c', 'l', 'menyalahâ²kan', 'kemageran', 'megang', 'kharismatik', 'teduhhhh', 'payung', 'weekend', 'janjinyaaaaa', 'nerima', 'gaissss', 'oh', 'dilontarkn', 'prnyataan', 'bngetðÿ', 'pnting', 'kasur', 'sembunyi', 'ngurusi', 'gimane', 'saku', 'abrek', 'sbelumnya', 'panglima', 'dusta', 'latar', 'salju', 'mustahal', 'hil', 'jadulðÿ', 'kaliiii', 'dikerjain', 'jiahhhh', 'ono', 'tamak', 'researched', 'sg', 'dbs', 'bisajadi', 'sosiolog', 'msy', 'pure', 'maret', 'daging', 'ana', 'ria', 'setia', 'stategi', 'legendðÿ', 'urgent', 'hujan', 'orasi', 'pendkung', 'banci', 'langgar', 'kaset', 'giring', 'sega', 'kepiawian', 'pertamina', 'hilir', 'sides', 'both', 'fight', 'afk', 'rangkum', 'wkakwka', 'ributin', 'ubi', 'gadung', 'male', 'sidimpuan', 'jikaterpilih', 'hikmah', 'pimp', 'silent', 'blok', 'militan', 'diladenin', 'takdir', 'jokowaw', 'pernak', 'parbowo', 'bilah', 'massive', 'ngefans', 'comedy', 'versi', 'bismilah', 'lini', 'watch', 'bngkus', 'ngejar', 'skedar', 'jgalah', 'tampa', 'amanat', 'diskriminasi', 'pandai', 'asiknya', 'tntang', 'beban', 'mrpkn', 'mngtkn', 'blusukan', 'prayitno', 'mesin', 'ac', 'tiba', 'story', 'rekam', 'nyalahkan', 'nekat', 'cicip', 'makna', 'failing', 'amiiiiin', 'diridoi', 'midahan', 'kpda', 'krendahan', 'youtubers', 'membedain', 'mahasiswa', 'dosen', 'pajakðÿ', 'pmrnthn', 'kberhasiln', 'mnyangkal', 'mlakukn', 'ngronda', 'bid', 'bless', 'tearssss', 'braay', 'imperiale', 'orchide', 'guerlain', 'glowing', 'ganasssssss', 'amda', 'ngelebihi', 'statistik', 'subsektor', 'sugul', 'jluk', 'ekosistem', 'santet', 'inkonsistensi', 'geliat', 'ngr', 'kah', 'finansial', 'kompanye', 'singkron', 'cuti', 'ketawa', 'alokasi', 'cuek', 'doi', 'hargaâ²', 'prabowi', 'yakali', 'âœœâœœ', 'alamin', 'robbal', 'prabowosandiðÿ', 'menymbangkan', 'progam', 'abah', 'parsial', 'potret', 'rahiim', 'indonesiaa', 'maha', 'telapak', 'ff', 'karakteristik', 'mengingatkanðÿ', 'oleng', 'salutttt', 'voters', 'swing', 'resep', 'gajiâ', 'œtidak', 'sebelulmnya', 'politikus', 'campaign', 'ðÿžµ', 'ðÿž', 'hei', 'œaku', 'œjika', 'habissss', 'iq', 'luk', 'bedua', 'terang', 'ketka', 'teopebegete', 'mulyani', 'duet', 'ngajar', 'akuntabilitas', 'ngosan', 'ngos', 'dibebanin', 'kerennnn', 'anugrah', 'dibrkn', 'nahan', 'smga', 'subhanalloh', 'ridhoâ', 'masha', '²', 'aamiinðÿ', 'inget', 'dumay', 'interaksi', 'tangkal', 'kewalahan', 'lihai', 'praktikal', 'ngajak', 'kongkalikong', 'template', 'expect', 'they', 'yaelahhh', 'hehehehe', 'jendral', 'hahahahaha', 'telikung', 'berkurangðÿ', 'oknum', 'otk', 'teror', 'sipegawai', 'antaa', 'rate', 'be', 'yaallah', 'ribut', 'srimulyani', 'agun', 'pinjam', 'marit', 'morat', 'sebenernya', 'haduh', 'missqueeen', 'cuy', 'mbesengut', 'kesejatraan', 'rezeki', 'wow', 'struktural', 'kao', 'sebenernyaa', 'jabatanâ', 'gerogot', 'presdir', 'kh', 'populis', 'collapse', 'pakan', 'prnah', 'sosialis', 'pr', 'konsen', 'btam', 'mnjulang', 'aparatur', 'kriminalisasi', 'berkas', 'bappenas', 'ppn', 'olimpic', 'laga', 'bus', 'trtma', 'oada', 'kompilasi', 'peka', 'sbagainya', 'doangmah', 'âœœâœœâœœ', 'ojeg', 'itulh', 'angkot', 'rempah', 'everything', 'rakya', 'runding', 'swiss', 'gitulah', 'dinasti', 'super', 'komoditi', 'menangkn', 'kebesaranya', 'dasyat', 'krosscek', 'programs', 'sipil', 'arsul', 'idealisme', 'pence', 'tolok', 'tetes', 'lillahita', 'pubgm', 'woow', 'gatau', 'kesini', 'nantiðÿ', 'waduuuh', 'ppp', 'sekjen', 'pda', 'candidate', 'jogja', 'ngerasain', 'dijawa', 'iniâ', 'catet', 'ijtima', 'patuh', 'nyadar', 'siuman', 'wkwkwkwkwkw', 'mushala', 'zakat', 'jabatann', 'wealthiest', 'well', 'fund', 'bangsat', 'sda', 'korporasi', 'endingnya', 'merta', 'kias', 'laba', 'pundak', 'hewan', 'dokter', 'ngomonging', 'buset', 'kereeeeen', 'bakti', 'diminngu', 'see', 'mabar', 'gancossssssss', 'breaking', 'hartarto', 'airlangga', 'iklim', 'œjokowi', 'biofuel', 'salur', 'merinding', 'think', 'us', 'going', 'wise', 'man', 'abadi', 'ngebanggain', 'cerna', 'prabowonya', 'dirapihin', 'krismon', 'protect', 'ht', 'ngetes', 'siape', 'setir', 'ipar', 'gampar', 'pappers', 'nyulik', 'pakâ', 'subahanallah', 'taâ', 'subhanahu', 'karismatik', 'kandidat', 'sblum', 'pmbangunan', 'jabatn', 'nafsu', 'muas', 'polisi', 'gatot', 'membuly', 'personil', 'kohar', 'bgitu', 'cian', 'rel', 'disambungin', 'gwa', 'muuak', 'bukn', 'tuuuh', 'hormari', 'jilat', 'gimna', 'sombongg', 'astgfrlhalzm', 'njing', 'pertanyaa', 'mengembalikannnya', 'âœœï', 'pert', 'gasak', 'vital', 'persil', 'smpe', 'milineal', 'menhelola', 'hibah', 'sinchan', 'semwa', 'muara', 'pemunguran', 'event', 'mandek', 'mmrintahkan', 'ngedukung', 'kpntingan', 'bobo', 'tggjwb', 'tradisi', 'probabilitas', 'ibukota', 'demand', 'supply', 'bulutangkis', 'gunting', 'cengkrong', 'rumput', 'motong', 'geblek', 'ra', 'berimpact', 'based', 'equilibrium', 'gadgetðÿ', 'cetakcetek', 'afiliasi', 'gue', 'gizi', 'pinalti', 'tendang', 'keblinger', 'klenger', 'universitas', 'ditjen', 'wni', 'gub', 'regina', 'tegar', 'ctk', 'reken', 'dicuekin', 'diincer', 'bagiamana', 'sist', 'iðÿ', 'nkrðÿ', 'jokoei', 'mantups', 'suda', 'aladin', 'tekapak', 'gagah', 'tribun', 'kudhu', 'jdnya', 'dipeliara', 'wkwkk', 'nampak', 'beljar', 'bukam', 'autokritik', 'gigi', 'unt', 'favorit', 'slah', 'lontar', 'dibantuin', 'bosque', 'yangbterbongkar', 'cmon', 'duaâ', 'membut', 'enterpreuner', 'ribuk', 'menham', 'coma', 'selam', 'minciptakan', 'subtantif', 'revormasi', 'infrastrukur', 'counterattack', 'yekan', 'samaâ', 'btul', 'pembangujan', 'nehðÿ', 'ngelawak', 'sempit', 'omg', 'sdgkan', 'maa', 'masalalu', 'takabur', 'lampau', 'yaw', 'nunggak', 'tuu', 'yakiinn', 'infrakstruktur', 'dah', 'tusut', 'strategis', 'iniloh', 'ekonominua', 'unjuk', 'karakter', 'gajelas', 'ituu', 'agrari', 'banyakkk', 'kitaaa', 'lohh', 'yakiin', 'haqqul', 'keiklasan', 'sukuses', 'ininsukar', 'barusan', 'narsum', 'streaming', 'wayahe', 'wis', 'tunai', 'jos', 'loncat', 'tumpang', 'bep', 'bloomberg', 'studi', 'emis', 'mashook', 'member', 'preeetttt', 'dech', 'pasilitas', 'nebeng', 'industry', 'inggris', 'belanda', 'gopay', 'restoran', 'jtan', 'poll', 'traktor', 'benih', 'dirapiin', 'parit', 'londo', 'luber', 'dollars', 'billion', 'mantao', 'jglh', 'cakep', 'mabuk', 'ckckck', 'gulung', 'telor', 'dsbt', 'digitl', 'kblkang', 'smentara', 'dinas', 'duuh', 'heheheheheh', 'woi', 'hatihati', 'superb', 'way', 'point', 'good', 'fondasi', 'depat', 'terahir', 'puja', 'dekade', 'pondasinya', 'auto', 'gapunya', 'sai', 'art', 'kia', 'œkekayaan', 'indoneaia', 'set', 'nolak', 'disiapin', 'triliyunan', 'ngembat', 'mauk', 'planning', 'rapah', 'sik', 'yaelaaah', 'presidenðÿ', 'sanggup', 'timbang', 'tbtb', 'menguadai', 'perusahaanya', 'babu', 'dokrin', 'ngalahin', 'cowok', 'akuin', 'nyinggung', 'matiâ', 'ngelakuin', 'wlpn', 'mb', 'kisruh', 'tibaâ', 'baoak', 'aksa', 'erwin', 'nol', 'pertiwi', 'usai', 'bimbang', 'gerbong', 'insa', 'abdalla', 'abshar', 'sehingg', 'akam', 'singapur', 'sobat', 'tumbah', 'gamedev', 'sibuk', 'sndri', 'cerai', 'banggain', 'jmn', 'trilliuanan', 'indosat', 'hobby', 'kepaon', 'komitemen', 'siar', 'larang', 'ponakan', 'bilangin', 'dimnanya', 'timses', 'programmer', 'komputer', 'rakit', 'otoriter', 'delik', 'diterapin', 'sori', 'kuasain', 'walk', 'soalâ', 'derma', 'tujukin', 'dermawan', 'antusiasme', 'tumbang', 'sumbanganðÿ', 'mengiklash', 'eslen', 'tetanggakuh', 'benak', 'sirat', 'argumentasi', 'kls', 'shame', 'sangkut', 'triliyun', 'bertanggungjawab', 'suku', 'rukun', 'polihkan', 'anehhh', 'dikomplen', 'hhh', 'taktis', 'kunker', 'meerrka', 'mngkin', 'tah', 'jiplak', 'mlm', 'melanjutkn', 'terbikti', 'paking', 'fatwah', 'jelasinnnnnnn', 'ngomel', 'sanksi', 'bui', 'pijak', 'lembut', 'behave', 'podmoro', 'cerabut', 'gusur', 'tajam', 'fenomenal', 'preseden', 'wkwkwkk', 'aaamiin', 'must', 'gosip', 'indshnya', 'kmna', 'pidana', 'dapetnya', 'nyalon', 'maksd', 'bakat', 'talenta', 'infaqkan', 'infaq', 'booming', 'konyol', 'geram', 'nail', 'ndasmu', 'bangsandiaga', 'dbyr', 'lokasi', 'refolusi', 'sebelumnyaa', 'ecomerece', 'kamojang', 'cagar', 'heheee', 'buseh', 'ehhh', 'mnghargai', 'manah', 'lembah', 'lurus', 'piyantun', 'tritura', 'sdah', 'google', 'suci', 'search', 'fanatik', 'robalalamin', 'dodo', 'seyakinny', 'mbulet', 'gebrak', 'podium', 'nimbun', 'penghianat', 'pringles', 'ceo', 'kwpada', 'meperburuk', 'heroik', 'gabener', 'kakao', 'nyakitin', 'bupati', 'camat', 'samahalnya', 'nurjanah', 'syamsuddin', 'entrepreneur', 'cad', 'ngebet', 'php', 'tok', 'tik', 'smule', 'gresik', 'bincang', 'bobby', 'jarang', 'tokped', 'ovo', 'cashback', 'mukidi', 'trilliunan', 'uban', 'domplrng', 'oc', 'nyaring', 'fikir', 'begawan', 'biberikan', 'tunggang', 'muding', 'eps', 'hmmmmmmmmm', 'cgv', 'aqua', 'februari', 'maniaðÿ', 'jak', 'panggung', 'dim', 'uwongke', 'babang', 'chemistry', 'terpana', 'ngerjain', 'aplud', 'dableg', 'sontoloyo', 'daeraah', 'destinasi', 'melestarikanya', 'lihatnyaðÿ', 'gemes', 'didlm', 'apalg', 'men', 'kku', 'taruh', 'lahan', 'denpasar', 'tengik', 'pbh', 'struktur', 'penasaran', 'ajja', 'santai', 'gkgkgkkk', 'esprot', 'urusin', 'bruh', 'idiot', 'fakiiingggg', 'youre', 'whistleblower', 'those', 'let', 'zero', 'suuzon', 'lai', 'huruf', 'gaduh', 'alesan', 'naekin', 'stok', 'dalm', 'oohhh', 'responnya', 'kite', 'yurop', 'ci', 'dimensi', 'adakan', 'apaaaa', 'tuman', 'sebelumâ²', 'acung', 'mknya', 'kolor', 'jepit', 'slalu', 'kacang', 'tengar', 'kontradiksi', 'konglomerat', 'cukong', 'hmmmmm', 'segar', 'angin', 'regulasi', 'patut', 'respon', 'terpipilh', 'majelis', 'naib', 'takdelah', 'antero', 'premium', 'drastik', 'ganda', 'momen', 'effect', 'round', 'second', 'pula', 'sabun', 'gantiin', 'yayasan', 'frontal', 'ketulungan', 'jantung', 'kebel', 'bagaimama', 'tgb', 'lena', 'meremehkann', 'rese', 'juarakkk', 'lhkpn', 'bruto', 'wes', 'gapapa', 'waduh', 'anjolk', 'dalem', 'abangâ²', 'jokowers', 'garang', 'legislatif', 'mitra', 'fungsi', 'ngomong-ngomong', 'lulung', 'tren', 'kakap', 'kas', 'entar', 'codot', 'fikiran', 'goblog', 'sentris', 'forum', 'diposting', 'aduhhhh', 'buzer', 'ati', 'akum', 'yol', 'gituan', 'gaul', 'cuk', 'mingkem', 'kebeliðÿ', 'medsos', 'tampik', 'trpuruknya', 'baris', 'pmbngunan', 'or', 'gajinyaðÿ', 'dinaikin', 'haluan', 'imingi', 'diiming', 'notabene', 'landas', 'bir', 'perkosa', 'label', 'smalm', 'market', 'jng', 'cash', 'wb', 'wr', 'aalaikum', 'assalammu', 'koneksi', 'anjay', 'pmerintahannya', 'iring', 'starcraft', 'korsel', 'lambai', 'gajianðÿ', 'judulnyaaaaa', 'pemirsahðÿ', 'keyword', 'oohh', 'bathin', 'lahir', 'fasionable', 'cling', 'kesana', 'mamfaat', 'tubuh', 'meng', 'sys', 'awet', 'gmb', 'ohh', 'hehhehee', 'mempermasalahin', 'plongonya', 'digitalâ', 'keringat', 'peluh', 'mahakaya', 'mudik', 'rasain', 'ehmm', 'overheard', 'sakti', 'heboh', 'mrt', 'dgr', 'purna', 'sekarnag', 'edunnn', 'dear', 'yng', 'koarâ²', 'leceh', 'drama', 'drasti', 'karawang', 'sesekalia', 'transportasi', 'fb', 'masaknnya', 'jenius', 'nyataðÿ', 'pungam', 'romlah', 'unlimited', 'firaun', 'anfaunnas', 'digitalisasi', 'teropong', 'hugo', 'baju', 'sepatu', 'ktanya', 'kmana', 'syahwat', 'pisang', 'hemat', 'bumerang', 'sepakbola', 'surabaya', 'perkavita', 'gincu', 'respect', 'arttinya', 'dgan', 'sorga', 'semlm', 'shi', 'halang', 'user', 'purba', 'nyontek', 'gestur', 'cma', 'bleh', 'malay', 'genjot', 'dipahamin', 'menghalalka', 'cum', 'summa', 'anjaaay', 'yunus', 'ransel', 'fenomena', 'matiin', 'cas', 'ngerasa', 'dokumenter', 'team', 'preaiden', 'jembatan', 'instruksi', 'tamat', 'maling', 'nyuri', 'kalia', 'anjing', 'toleransi', 'provokator', 'gembira', 'non', 'kaget', 'kamar', 'joyohadikusumo', 'nyerocos', 'wakkaakaka', 'laude', 'sentuh', 'kaing', 'paijem', 'entas', 'signifikan', 'hhhhhh', 'berinfaq', 'day', 'quote', 'heleh', 'saran', 'pertmbuhan', 'meningkatkn', 'kran', 'dibukuny', 'hahahhahaha', 'murji', 'brjubah', 'sample', 'ilusi', 'diteriakin', 'mahir', 'omm', 'brap', 'sale', 'jumlh', 'kering', 'kilo', 'fluktuatif', 'bekas', 'whatsapp', 'nuduh', 'arogan', 'yangâ', 'sosmed', 'permai', 'susul', 'aktif', 'histori', 'cucuk', 'kosmetik', 'mudahâ²', 'abdillah', 'dude', 'shit', 'repair', 'clear', 'clean', 'mentah', 'istiadat', 'kreativitas', 'netral', 'nyentuh', 'oportunis', 'mekanisme', 'paten', 'obatx', 'patahana', 'pesat', 'koreksi', 'smart', 'konservatif', 'kecwa', 'adat', 'sekalipun', 'like', 'kue', 'keuntungam', 'dippasaran', 'mnyebut', 'simplenya', 'praktek', 'buming', 'pilpresâ', 'intip', 'bangaatt', 'gelut', 'bartambah', 'lawa', 'yangenggembirakan', 'novel', 'nudih', 'gajd', 'asyir', 'ba', 'abubakar', 'membebaskn', 'grusuk', 'grusak', 'embat', 'reputasi', 'tnpa', 'bain', 'fan', 'pqk', 'f', 'fanatisme', 'lelembut', 'pembangunanâ', 'dlsb', 'gratif', 'atik', 'utak', 'nafkah', 'ridhoilah', 'masyaa', 'yak', 'hatred', 'gusti', 'dipamerin', 'nararongol', 'menayalahkan', 'gencar', 'ktnya', 'bnr', 'sdngkan', 'mmng', 'redeb', 'tanjung', 'kwi', 'apaaaaa', 'catering', 'arip', 'zaenal', 'dsto', 'ulas', 'mabok', 'bosan', 'sdikit', 'pasrah', 'goblock', 'sjahtera', 'pdam', 'dollar', 'turunin', 'build', 'uan', 'partisipasi', 'gokill', 'balada', 'tabiat', 'sinkron', 'duku', 'smbngannya', 'yernyata', 'sekrg', 'iki', 'piye', 'eeeee', 'isolasi', 'tamin', 'darpo', 'karkam', 'markam', 'sabtu', 'gelora', 'pnm', 'madani', 'menwarkan', 'wooooii', 'author', 'gmw', 'ole', 'hahahah', 'segilintir', 'ngejogrog', 'gajan', 'organik', 'kang', 'hadeeeuh', 'interaktif', 'menghayal', 'khayal', 'zer', 'tilil', 'masayarakat', 'antusias', 'nunggu', 'makassar', 'numpang', 'isteri', 'banjir', 'tgupp', 'santay', 'ge', 'bat', 'kebelet', 'kalajengking', 'kumpulin', 'himbauan', 'halilintar', 'subtansi', 'trilyunan', 'amatir', 'jarak', 'simpang', 'âœ', 'munculah', 'parlente', 'ril', 'angsur', 'trlihat', 'kapabilitas', 'mala', 'rw', 'max', 'sono', 'pantesnya', 'relatif', 'perusahaann', 'lembek', 'animasi', 'mantaps', 'normatif', 'nmn', 'selaras', 'digembar', 'urai', 'mengigil', 'smi', 'satire', 'mesem', 'ngajarain', 'jngan', 'preaident', 'mora', 'trhormatnya', 'pamrih', 'marjinal', 'padat', 'invest', 'multifungi', 'adaa', 'bengkalai', 'gausah', 'rekamany', 'msyarakt', 'mncari', 'brniat', 'khidupn', 'sangkin', 'stuck', 'trbukti', 'tlh', 'timeout', 'gantiðÿ', 'cermat', 'yaelaah', 'proud', 'who', 'have', 'we', 'time', 'usul', 'sifudan', 'insyaaallah', 'proporsional', 'hambur', 'watt', 'objektif', 'pangkas', 'akses', 'musolini', 'italia', 'rossi', 'mengkan', 'pamugkas', 'yaaaaa', 'serahkn', 'gajinyaaaa', 'cawapresx', 'kinclong', 'nyapres', 'order', 'berkutet', 'klok', 'miraprojo', 'lapis', 'jepang', 'gblk', 'mantull', 'pancasaila', 'nangkep', 'drasakan', 'dutarakan', 'bambanggg', 'kaw', 'gmna', 'nyediain', 'hargain', 'mudeng', 'maap', '³ðÿ', 'blaðÿ', 'pki', 'pade', 'nyampe', 'omzet', 'bankrut', 'rekor', 'australia', 'korea', 'capek', 'ngnggur', 'sanggah', 'visioner', 'sekua', 'sekarng', 'bdain', 'didoain', 'moesa', 'asykar', 'sahabat', 'bgawal', 'meubelnya', 'mosyantax', 'alhmdllh', 'prjuangan', 'pegang', 'makes', 'sadis', 'tilap', 'niru', 'halahhhh', 'halah', 'mantaappppp', 'kontra', 'alamat', 'digitech', 'tampal', 'technologi', 'interest', 'oom', 'lainnnya', 'jejer', 'capressnya', 'wahhh', 'disalahkn', 'seprti', 'tekorðÿ', 'adl', 'ditanyain', 'dngerin', 'nyo', 'andi', 'konon', 'ptkiani', 'teladan', 'maksimal', 'menyalahkn', 'seblm', 'sesi', 'matt', 'jo', 'walkot', 'ws', 'riyadh', 'khalid', 'king', 'sambut', 'cerah', 'cuaca', 'ajarin', 'aktifiktas', 'kreatifitas', 'property', 'tookoh', 'dp', 'malaikat', 'kekanak', 'sultan', 'kebun', 'primer', 'agregat', 'pengeloalan', 'srek', 'tenar', 'ngehack', 'tampar', 'wayang', 'sesat', 'gituh', 'ngingetin', 'institusi', 'kana', 'over', 'dibegoin', 'smesh', 'layang', 'ditungguin', 'nampaknya', 'alquran', 'salat', 'desember', 'meni', 'diapain', 'bajar', 'kantor', 'pantry', 'ngabisin', 'sabdi', 'mantabkan', 'lainnyaðÿ', 'instrumen', 'insfrastruktur', 'sbenernya', 'aplgi', 'ngikuuuuuuuut', 'jelang', 'umrah', 'petai', 'nihh', 'hadewww', 'radikal', 'paradoks', 'omongane', 'skali', 'peran', 'standar', 'waton', 'jowo', 'prior', 'diskusi', 'kreasi', 'obrol', 'mlulu', 'nye', 'biarin', 'raut', 'sprtnya', 'gesuriid', 'kepret', 'bekerjasama', 'rujuk', 'celinguk', 'cingak', 'duniaâ', 'making', 'akuisisiâ', 'ek', 'kalu', 'geser', 'eksternal', 'hirawan', 'huni', 'ngeluarin', 'tuang', 'njeplak', 'jua', 'tebal', 'segmen', 'pdhal', 'nyuruh', 'usa', 'vatikan', 'dalih', 'rebut', 'hua', 'lugas', 'avtur', 'har', 'hype', 'hello', 'park', 'barangâ', 'bungsu', 'sus', 'ekonomu', 'apbd', 'motret', 'selfy', 'karto', 'pabrikan', 'selang', 'caleg', 'jeblok', 'andre', 'setlh', 'momong', 'teko', 'kumis', 'kwalitas', 'harianjogja', 'aammiin', 'tra', 'jah', 'madrasah', 'kufur', 'kesal', 'jabawan', 'bravo', 'turki', 'tres', 'dengernya', 'cakup', 'semprot', 'tuhan', 'ngelihat', 'derita', 'chavez', 'reply', 'haru', 'nguras', 'pusing', 'populer', 'sampel', 'ksh', 'mafioso', 'bwh', 'kufurâ', 'mutlak', 'akutuh', 'trsnyum', 'kacak', 'sindikat', 'nunjukin', 'ama', 'nakutin', 'tul', 'bkas', 'smntara', 'suap', 'sogok', 'temeh', 'remeh', 'membodoi', 'tiarap', 'curi', 'bget', 'ngebenci', 'sluruh', 'infrstruktur', 'sjtp', 'sangga', 'upgrade', 'rusa', 'post', 'khianat', 'skenario', 'syarih', 'export', 'kdg', 'ngehargai', 'lesu']\n"
     ]
    }
   ],
   "source": [
    "# Melihat semua kata yang ada dalam model\n",
    "words_in_model = w2v_model.wv.index_to_key\n",
    "print(\"Kata-kata dalam model:\", words_in_model)\n",
    "# Cek data yang digunakan untuk melatih model"
   ],
   "metadata": {
    "collapsed": false,
    "ExecuteTime": {
     "end_time": "2024-09-26T11:44:16.043215600Z",
     "start_time": "2024-09-26T11:44:15.870388600Z"
    }
   }
  },
  {
   "cell_type": "code",
   "execution_count": 59,
   "outputs": [],
   "source": [
    "def clean_no_sw(text):\n",
    "    # Menghapus URL\n",
    "    text = re.sub(r'http\\S+|www\\S+|https\\S+', '', text, flags=re.MULTILINE)\n",
    "    text = re.sub(r'pic\\.twitter\\.com/\\S+', '', text)\n",
    "    \n",
    "    # Menghapus username dan hashtag\n",
    "    text = re.sub(r'@(prabowo|sandi|jokowi)', r'\\1', text)  \n",
    "    text = re.sub(r'@\\w+|#\\w+', '', text)  \n",
    "    \n",
    "    # Ganti tanda baca dan karakter khusus dengan spasi\n",
    "    text = re.sub(r'[^\\w\\s]', ' ', text)  # Mengganti dengan spasi\n",
    "    text = re.sub(r'\\d+', '', text)  # Menghapus angka\n",
    "    \n",
    "    # Hapus spasi lebih dari satu\n",
    "    text = re.sub(r'\\s+', ' ', text)  # Mengganti beberapa spasi dengan satu spasi\n",
    "    \n",
    "    # Mengubah ke huruf kecil dan tokenisasi\n",
    "    text = text.lower().split()\n",
    "    \n",
    "    # Kompilasi regex untuk mencocokkan kata-kata slang\n",
    "    slang_words_regex = re.compile(r'\\b(?:' + '|'.join(re.escape(word) for word in slang_words_dict.keys()) + r')\\b')\n",
    "    \n",
    "    # Mengganti kata-kata slang\n",
    "    text = ' '.join(text)  # Menggabungkan kembali list kata menjadi string\n",
    "    text = slang_words_regex.sub(lambda match: slang_words_dict[match.group()], text)\n",
    "    \n",
    "    return text\n",
    "\n",
    "\n",
    "# copy dataframe\n",
    "df_no_sw = df\n",
    "# Menerapkan fungsi pembersihan dan pemrosesan pada kolom 'tweet_no_extra_space'\n",
    "df_no_sw['tweet_clean'] = df_no_sw['tweet'].apply(clean_no_sw)"
   ],
   "metadata": {
    "collapsed": false,
    "ExecuteTime": {
     "end_time": "2024-09-26T08:43:35.833013700Z",
     "start_time": "2024-09-26T08:43:34.201712100Z"
    }
   }
  },
  {
   "cell_type": "code",
   "execution_count": 60,
   "outputs": [],
   "source": [
    "# Inisialisasi stemmer Sastrawi\n",
    "stemmer = Stemmer()\n",
    "\n",
    "# Terapkan stemming\n",
    "df_no_sw['tweet_stemming'] = df_no_sw['tweet_clean'].apply(lambda x: stemmer.stem(x))"
   ],
   "metadata": {
    "collapsed": false,
    "ExecuteTime": {
     "end_time": "2024-09-26T08:43:36.555669600Z",
     "start_time": "2024-09-26T08:43:35.836273300Z"
    }
   }
  },
  {
   "cell_type": "code",
   "execution_count": 61,
   "outputs": [],
   "source": [
    "# Inisialisasi lemmatizer\n",
    "lemmatizer = Lemmatizer()\n",
    "\n",
    "# Terapkan lemmatization langsung dalam lambda\n",
    "df_no_sw['tweet_lemmatized'] = df_no_sw['tweet_clean'].apply(\n",
    "    lambda text: ' '.join(lemmatizer.lemmatize(word) for word in text.split())\n",
    ")"
   ],
   "metadata": {
    "collapsed": false,
    "ExecuteTime": {
     "end_time": "2024-09-26T08:43:37.888528400Z",
     "start_time": "2024-09-26T08:43:37.006172300Z"
    }
   }
  },
  {
   "cell_type": "code",
   "execution_count": 66,
   "outputs": [
    {
     "name": "stdout",
     "output_type": "stream",
     "text": [
      "Fitting 10 folds for each of 16 candidates, totalling 160 fits\n",
      "Train Accuracy: 71.89%\n",
      "Validation Accuracy: 56.25%\n",
      "Test Accuracy: 52.38%\n",
      "Out-of-Bag Score: 0.5165354330708661\n"
     ]
    }
   ],
   "source": [
    "# Menerapkan fungsi pembersihan dan pemrosesan pada kolom 'tweet_no_extra_space'\n",
    "df_no_sw['cleaned_tweet'] = df_no_sw['tweet_stemming']\n",
    "\n",
    "# Step 3: Word2Vec - Training a Word2Vec model (Skipgram)\n",
    "sentences = df_no_sw['cleaned_tweet'].tolist()\n",
    "w2v_model = Word2Vec(sentences, vector_size=100, window=6, sg=1, min_count=1)\n",
    "\n",
    "def get_vector_representation(tweet, model, vector_size=100):\n",
    "    vectors = [model.wv[word] for word in tweet if word in model.wv]\n",
    "    if len(vectors) == 0:\n",
    "        return np.zeros(vector_size)\n",
    "    return np.mean(vectors, axis=0)\n",
    "\n",
    "df_no_sw['tweet_vector'] = df_no_sw['cleaned_tweet'].apply(lambda x: get_vector_representation(x, w2v_model))\n",
    "\n",
    "# Step 4: Prepare train, validation, test sets\n",
    "X = np.vstack(df_no_sw['tweet_vector'].values)\n",
    "y = df_no_sw['sentimen']  # Target column for sentiment\n",
    "\n",
    "X_train, X_temp, y_train, y_temp = train_test_split(X, y, test_size=0.3, random_state=42)\n",
    "X_val, X_test, y_val, y_test = train_test_split(X_temp, y_temp, test_size=0.5, random_state=42)\n",
    "\n",
    "# Step 5: Feature Scaling\n",
    "scaler = StandardScaler()\n",
    "X_train_scaled = scaler.fit_transform(X_train)\n",
    "X_val_scaled = scaler.transform(X_val)\n",
    "X_test_scaled = scaler.transform(X_test)\n",
    "\n",
    "# Step 6: Hyperparameter tuning with GridSearchCV for RandomForest (with reduced complexity)\n",
    "param_grid = {\n",
    "    'n_estimators': [150, 250],            # Reduce the number of trees\n",
    "    'max_depth': [20, 40],               # Limit the depth of the trees\n",
    "    'min_samples_split': [0.040, 0.060],        # Increase the minimum samples required to split a node\n",
    "    'min_samples_leaf': [0.010, 0.015],         # Increase the minimum samples at a leaf node\n",
    "    'max_features': ['sqrt'],             # Limit the number of features considered at each split\n",
    "    'bootstrap': [True],\n",
    "    'oob_score': [True],                  # Use Out-of-Bag samples for validation\n",
    "}\n",
    "\n",
    "rf = RandomForestClassifier(random_state=42)\n",
    "\n",
    "# GridSearch with 5-fold cross-validation\n",
    "grid_search = GridSearchCV(estimator=rf, param_grid=param_grid, cv=10, scoring='accuracy', n_jobs=-1, verbose=3)\n",
    "grid_search.fit(X_train_scaled, y_train)\n",
    "\n",
    "# Step 7: Get the best model after tuning\n",
    "best_rf = grid_search.best_estimator_\n",
    "\n",
    "# Step 8: Model Evaluation on Train, Val, Test sets\n",
    "y_train_pred = best_rf.predict(X_train_scaled)\n",
    "y_val_pred = best_rf.predict(X_val_scaled)\n",
    "y_test_pred = best_rf.predict(X_test_scaled)\n",
    "\n",
    "# Step 9: Print accuracy for train, val, and test sets\n",
    "train_accuracy = accuracy_score(y_train, y_train_pred)\n",
    "val_accuracy = accuracy_score(y_val, y_val_pred)\n",
    "test_accuracy = accuracy_score(y_test, y_test_pred)\n",
    "\n",
    "print(f\"Train Accuracy: {train_accuracy * 100:.2f}%\")\n",
    "print(f\"Validation Accuracy: {val_accuracy * 100:.2f}%\")\n",
    "print(f\"Test Accuracy: {test_accuracy * 100:.2f}%\")\n",
    "\n",
    "# Print classification reports\n",
    "# print(\"\\nClassification Report (Train):\\n\", classification_report(y_train, y_train_pred))\n",
    "# print(\"\\nClassification Report (Validation):\\n\", classification_report(y_val, y_val_pred))\n",
    "# print(\"\\nClassification Report (Test):\\n\", classification_report(y_test, y_test_pred))\n",
    "\n",
    "# Check OOB Score\n",
    "print(\"Out-of-Bag Score:\", best_rf.oob_score_)\n"
   ],
   "metadata": {
    "collapsed": false,
    "ExecuteTime": {
     "end_time": "2024-09-26T08:49:56.995913200Z",
     "start_time": "2024-09-26T08:49:05.021545200Z"
    }
   }
  }
 ],
 "metadata": {
  "colab": {
   "provenance": [],
   "toc_visible": true,
   "include_colab_link": true
  },
  "kernelspec": {
   "name": "python3",
   "language": "python",
   "display_name": "Python 3 (ipykernel)"
  },
  "language_info": {
   "name": "python"
  }
 },
 "nbformat": 4,
 "nbformat_minor": 0
}
