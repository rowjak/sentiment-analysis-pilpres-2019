{
 "cells": [
  {
   "cell_type": "markdown",
   "source": [
    "# Library"
   ],
   "metadata": {
    "id": "zIzkG8LbYOD6"
   }
  },
  {
   "cell_type": "code",
   "execution_count": 87,
   "metadata": {
    "colab": {
     "base_uri": "https://localhost:8080/"
    },
    "id": "Ale6FRImMxJ6",
    "outputId": "15d8abd7-5a3d-4601-f32a-959646aae674",
    "ExecuteTime": {
     "end_time": "2024-09-20T04:08:25.966832100Z",
     "start_time": "2024-09-20T04:08:25.859412200Z"
    }
   },
   "outputs": [
    {
     "name": "stderr",
     "output_type": "stream",
     "text": [
      "[nltk_data] Downloading package stopwords to\n",
      "[nltk_data]     C:\\Users\\Rowjak\\AppData\\Roaming\\nltk_data...\n",
      "[nltk_data]   Package stopwords is already up-to-date!\n"
     ]
    }
   ],
   "source": [
    "import pandas as pd\n",
    "import nltk\n",
    "import seaborn as sns\n",
    "import os\n",
    "import matplotlib.pyplot as plt\n",
    "import json\n",
    "import re\n",
    "import emoji\n",
    "import numpy as np\n",
    "\n",
    "from nltk.corpus import stopwords\n",
    "\n",
    "from nlp_id.lemmatizer import Lemmatizer\n",
    "from bahasa.stemmer import Stemmer \n",
    "\n",
    "nltk.download('stopwords')\n",
    "stop_words = set('indonesian')  # Tentukan bahasa\n",
    "\n"
   ]
  },
  {
   "cell_type": "markdown",
   "source": [
    "# Load & Understand Dataset"
   ],
   "metadata": {
    "id": "7XYJgFAGYZsC"
   }
  },
  {
   "cell_type": "code",
   "execution_count": 88,
   "outputs": [
    {
     "name": "stdout",
     "output_type": "stream",
     "text": [
      "<class 'pandas.core.frame.DataFrame'>\n",
      "RangeIndex: 1815 entries, 0 to 1814\n",
      "Data columns (total 3 columns):\n",
      " #   Column      Non-Null Count  Dtype \n",
      "---  ------      --------------  ----- \n",
      " 0   Unnamed: 0  1815 non-null   int64 \n",
      " 1   sentimen    1815 non-null   object\n",
      " 2   tweet       1815 non-null   object\n",
      "dtypes: int64(1), object(2)\n",
      "memory usage: 42.7+ KB\n"
     ]
    }
   ],
   "source": [
    "project_path = os.getcwd()\n",
    "dataset_path = \"dataset\"\n",
    "dictionary_path = \"dictionary\"\n",
    "dataset_name = \"tweet.csv\"\n",
    "\n",
    "df = pd.read_csv(os.path.join(project_path,dataset_path,dataset_name),encoding='UTF-8')\n",
    "df.info()"
   ],
   "metadata": {
    "collapsed": false,
    "ExecuteTime": {
     "end_time": "2024-09-20T04:08:26.029659Z",
     "start_time": "2024-09-20T04:08:25.958185600Z"
    }
   }
  },
  {
   "cell_type": "code",
   "source": [
    "# Menghapus kolom unnamed : \n",
    "df.drop('Unnamed: 0', axis=1, inplace=True)\n",
    "df.head()"
   ],
   "metadata": {
    "colab": {
     "base_uri": "https://localhost:8080/",
     "height": 206
    },
    "id": "9ffEqVIJXtzh",
    "outputId": "6da3c364-fd34-4a2c-a3fe-d0d7f68277cd",
    "ExecuteTime": {
     "end_time": "2024-09-20T04:08:26.089125400Z",
     "start_time": "2024-09-20T04:08:26.019452Z"
    }
   },
   "execution_count": 89,
   "outputs": [
    {
     "data": {
      "text/plain": "  sentimen                                              tweet\n0  negatif  Kata @prabowo Indonesia tidak dihargai bangsa ...\n1   netral  Batuan Langka, Tasbih Jokowi Hadiah dari Habib...\n2   netral  Di era Jokowi, ekonomi Indonesia semakin baik....\n3  positif  Bagi Sumatera Selatan, Asian Games berdampak p...\n4  negatif  Negara kita ngutang buat bngun infrastruktur y...",
      "text/html": "<div>\n<style scoped>\n    .dataframe tbody tr th:only-of-type {\n        vertical-align: middle;\n    }\n\n    .dataframe tbody tr th {\n        vertical-align: top;\n    }\n\n    .dataframe thead th {\n        text-align: right;\n    }\n</style>\n<table border=\"1\" class=\"dataframe\">\n  <thead>\n    <tr style=\"text-align: right;\">\n      <th></th>\n      <th>sentimen</th>\n      <th>tweet</th>\n    </tr>\n  </thead>\n  <tbody>\n    <tr>\n      <th>0</th>\n      <td>negatif</td>\n      <td>Kata @prabowo Indonesia tidak dihargai bangsa ...</td>\n    </tr>\n    <tr>\n      <th>1</th>\n      <td>netral</td>\n      <td>Batuan Langka, Tasbih Jokowi Hadiah dari Habib...</td>\n    </tr>\n    <tr>\n      <th>2</th>\n      <td>netral</td>\n      <td>Di era Jokowi, ekonomi Indonesia semakin baik....</td>\n    </tr>\n    <tr>\n      <th>3</th>\n      <td>positif</td>\n      <td>Bagi Sumatera Selatan, Asian Games berdampak p...</td>\n    </tr>\n    <tr>\n      <th>4</th>\n      <td>negatif</td>\n      <td>Negara kita ngutang buat bngun infrastruktur y...</td>\n    </tr>\n  </tbody>\n</table>\n</div>"
     },
     "execution_count": 89,
     "metadata": {},
     "output_type": "execute_result"
    }
   ]
  },
  {
   "cell_type": "code",
   "source": [
    "# cek apakah terdapat kolom null\n",
    "df.isna().sum()/len(df)"
   ],
   "metadata": {
    "colab": {
     "base_uri": "https://localhost:8080/"
    },
    "id": "BHbEdLGZZhWZ",
    "outputId": "dd1051d9-f3ec-499e-c1ff-0563fda54dfe",
    "ExecuteTime": {
     "end_time": "2024-09-20T04:08:26.123101900Z",
     "start_time": "2024-09-20T04:08:26.050309200Z"
    }
   },
   "execution_count": 90,
   "outputs": [
    {
     "data": {
      "text/plain": "sentimen    0.0\ntweet       0.0\ndtype: float64"
     },
     "execution_count": 90,
     "metadata": {},
     "output_type": "execute_result"
    }
   ]
  },
  {
   "cell_type": "code",
   "source": [
    "# cek jumlah data pada tiap-tiap label.\n",
    "plt.figure(figsize=(8, 6), dpi=100)\n",
    "ax = sns.countplot(data=df, x='sentimen', hue='sentimen')\n",
    "total = float(len(df))\n",
    "\n",
    "for p in ax.patches:\n",
    "    height = p.get_height()\n",
    "    ax.annotate(f'{height:.0f}\\n({height/total:.1%})', \n",
    "                (p.get_x() + p.get_width() / 2., height), \n",
    "                ha='center', va='center', \n",
    "                xytext=(0, 10), textcoords='offset points')\n",
    "\n",
    "plt.show()"
   ],
   "metadata": {
    "colab": {
     "base_uri": "https://localhost:8080/",
     "height": 551
    },
    "id": "U8joO6fFZhTC",
    "outputId": "302050b6-fb07-491b-afb9-46341e95c785",
    "ExecuteTime": {
     "end_time": "2024-09-20T04:08:26.367499100Z",
     "start_time": "2024-09-20T04:08:26.072691100Z"
    }
   },
   "execution_count": 91,
   "outputs": [
    {
     "data": {
      "text/plain": "<Figure size 800x600 with 1 Axes>",
      "image/png": "[encoded data removed]"
     },
     "metadata": {},
     "output_type": "display_data"
    }
   ]
  },
  {
   "cell_type": "markdown",
   "source": [
    "label sentimen yang ada cukup balance, sehingga tidak memerlukan oversampling maupun undersampling."
   ],
   "metadata": {
    "id": "SeRRaj1vbgzn"
   }
  },
  {
   "cell_type": "code",
   "source": [
    "# cek duplikasi data\n",
    "print('Jumlah Data : ',len(df))\n",
    "\n",
    "df = df.drop_duplicates()\n",
    "print('Jumlah Data setelah menghapus data duplikat :', len(df))"
   ],
   "metadata": {
    "colab": {
     "base_uri": "https://localhost:8080/"
    },
    "id": "K7mgd8wcchZv",
    "outputId": "c2e75117-2f55-43b3-8c6c-eeae3baa3b53",
    "ExecuteTime": {
     "end_time": "2024-09-20T04:08:26.368648700Z",
     "start_time": "2024-09-20T04:08:26.346545300Z"
    }
   },
   "execution_count": 92,
   "outputs": [
    {
     "name": "stdout",
     "output_type": "stream",
     "text": [
      "Jumlah Data :  1815\n",
      "Jumlah Data setelah menghapus data duplikat : 1815\n"
     ]
    }
   ]
  },
  {
   "cell_type": "markdown",
   "source": [],
   "metadata": {
    "id": "PKAuRkx9b_Jb"
   }
  },
  {
   "cell_type": "markdown",
   "source": [
    "## Text Preprocessing\n",
    "\n",
    "*   Merubah tweet menjadi huruf kecil\n",
    "*   Merubah emoji menjadi kata yang bermakna\n",
    "*   Menghapus tanda baca\n",
    "*   Menghapus karakter khusus\n",
    "*   Menghapus Hashtag(#), username , @, dan url\n",
    "*   Menghapus stopwords\n",
    "*   Menghapus spasi berlebih\n",
    "*   Merubah slangwords ke kata asli\n",
    "\n",
    "\n",
    "\n",
    "\n",
    "\n"
   ],
   "metadata": {
    "id": "NA5VDzavcBOp"
   }
  },
  {
   "cell_type": "code",
   "source": [
    "# Merubah tweet menjadi huruf kecil\n",
    "df['tweet_lower'] = df['tweet'].str.lower()\n",
    "\n",
    "# Merubah emoji menjadi kata yang bermakna\n",
    "\n",
    "\n",
    "\n",
    "# Menghapus hashtag dan username dari kolom tweet\n",
    "df['tweet_no_user_hashtag'] = df['tweet_lower'].str.replace(r'@\\w+|#\\w+', '', regex=True)\n",
    "\n",
    "# Menghapus URL dari kolom tweet\n",
    "df['tweet_no_url'] = df['tweet_no_user_hashtag'].str.replace(r'http\\S+|www\\S+|https\\S+', '', regex=True)\n",
    "df['tweet_no_url'] = df['tweet_no_url'].str.replace(r'pic\\.twitter\\.com/\\S+', '', regex=True)\n",
    "\n",
    "# Memastikan kolom tweet berisi string sebelum melakukan penghapusan tanda baca dan special character\n",
    "df['tweet_sc'] = df['tweet_no_url'].astype(str).str.replace(r'[^\\w\\s]', ' ', regex=True)\n",
    "\n",
    "# Menghapus Stopswords\n",
    "exc_stopwords = [\n",
    "    'tidak', 'belum', 'bukan', 'tanpa', 'jarang', 'kurang',\n",
    "    'baik', 'bisa', 'mungkin', 'boleh', 'masalah'\n",
    "]\n",
    "stop_words = set(stopwords.words('indonesian'))\n",
    "# Gabungkan stop words dengan exclude stop words\n",
    "stop_words = stop_words - set(exc_stopwords)\n",
    "\n",
    "df['tweet_no_sw'] = df['tweet_sc'].str.split().apply(\n",
    "    lambda x: ' '.join([word for word in x if word not in stop_words])\n",
    ")\n",
    "\n",
    "# Menghapus spasi di awal dan akhir, dan mengganti spasi ganda dengan satu spasi\n",
    "df['tweet_no_extra_space'] = df['tweet_no_sw'].str.strip().str.replace(r'\\s+', ' ', regex=True)\n",
    "\n",
    "\n",
    "# Merubah slangwords ke kata asli\n",
    "# explore slangwords : https://github.com/louisowen6/NLP_bahasa_resources\n",
    "with open(os.path.join(project_path,dictionary_path,'combined_slang_words.json'), 'r') as json_file:\n",
    "    slang_words_dict = json.load(json_file)\n",
    "\n",
    "def process_slang(text, dictionary=slang_words_dict):\n",
    "    slang_words = re.compile(r'\\b(?:' + '|'.join(re.escape(word) for word in dictionary.keys()) + r')\\b')\n",
    "    output = slang_words.sub(lambda x: dictionary[x.group()], text)\n",
    "    return output\n",
    "    \n",
    "df['tweet_no_slang'] = df['tweet_no_extra_space'].apply(process_slang)\n",
    "\n",
    "df['tweet_test'] = df['tweet_no_slang']"
   ],
   "metadata": {
    "id": "I9yK87VCpG3c",
    "colab": {
     "base_uri": "https://localhost:8080/"
    },
    "outputId": "f383a0ba-538d-40dd-9ffc-7d22c98418e8",
    "ExecuteTime": {
     "end_time": "2024-09-20T04:08:28.725318800Z",
     "start_time": "2024-09-20T04:08:26.362015200Z"
    }
   },
   "execution_count": 93,
   "outputs": []
  },
  {
   "cell_type": "code",
   "execution_count": 94,
   "outputs": [
    {
     "data": {
      "text/plain": "                                                tweet  \\\n0   Kata @prabowo Indonesia tidak dihargai bangsa ...   \n1   Batuan Langka, Tasbih Jokowi Hadiah dari Habib...   \n2   Di era Jokowi, ekonomi Indonesia semakin baik....   \n3   Bagi Sumatera Selatan, Asian Games berdampak p...   \n4   Negara kita ngutang buat bngun infrastruktur y...   \n5   Yg bisikin pak jokowi, cm mikirin perputaran d...   \n6   Masa tenang msih ngoceh aja..ttp jokowi harga ...   \n7   #UASdifitnahKejiBalasDiTPS   kerjasa ekonomi b...   \n8   Iya bener Aa, kita MANTAP kan pilihan ke Pemim...   \n9   Prabowo-Sandi Sepakat Tak Ambil Gaji karena Ne...   \n10  #PilihOrangBaik #PilihJelasIslamnya #PilihBaju...   \n11  Calon presiden Jokowi menjelaskan program Kart...   \n12  Gak nginti Lu to @yunartowijaya, dan si @AT_Ab...   \n13  Menurut Jokowi, pemerintah selalu berupaya men...   \n14  Terlalu berat nge bahas ekonomi dgn angka2.. C...   \n\n                                           tweet_test  \n0   indonesia tidak dihargai bangsa asing berita ð...  \n1   batuan langka tasbih jokowi hadiah habib luthf...  \n2                   era jokowi ekonomi indonesia baik  \n3   sumatera selatan asian games berdampak pada ek...  \n4   negara ngutang bngun infrastruktur sudah dipak...  \n5   yang bisikin jokowi cm mikirin perputaran duit...  \n6       tenang msih ngoceh saja ttp jokowi harga mati  \n7   kerjasa ekonomi bilateral multilateral doakan ...  \n8   iya benar aa mantap pilihan pemimpin yang bisa...  \n9     prabowo sandi sepakat ambil gaji negara susah â  \n10  pilih pemimpin yang udh pencapaiannya 5 pencap...  \n11  calon presiden jokowi program kartu pra kerja ...  \n12  gak nginti kamu to si gak ngacaaa gak ngajarin...  \n13  jokowi pemerintah berupaya menjaga keseimbanga...  \n14  berat nge bahas ekonomi dengan angka2 bahas mo...  ",
      "text/html": "<div>\n<style scoped>\n    .dataframe tbody tr th:only-of-type {\n        vertical-align: middle;\n    }\n\n    .dataframe tbody tr th {\n        vertical-align: top;\n    }\n\n    .dataframe thead th {\n        text-align: right;\n    }\n</style>\n<table border=\"1\" class=\"dataframe\">\n  <thead>\n    <tr style=\"text-align: right;\">\n      <th></th>\n      <th>tweet</th>\n      <th>tweet_test</th>\n    </tr>\n  </thead>\n  <tbody>\n    <tr>\n      <th>0</th>\n      <td>Kata @prabowo Indonesia tidak dihargai bangsa ...</td>\n      <td>indonesia tidak dihargai bangsa asing berita ð...</td>\n    </tr>\n    <tr>\n      <th>1</th>\n      <td>Batuan Langka, Tasbih Jokowi Hadiah dari Habib...</td>\n      <td>batuan langka tasbih jokowi hadiah habib luthf...</td>\n    </tr>\n    <tr>\n      <th>2</th>\n      <td>Di era Jokowi, ekonomi Indonesia semakin baik....</td>\n      <td>era jokowi ekonomi indonesia baik</td>\n    </tr>\n    <tr>\n      <th>3</th>\n      <td>Bagi Sumatera Selatan, Asian Games berdampak p...</td>\n      <td>sumatera selatan asian games berdampak pada ek...</td>\n    </tr>\n    <tr>\n      <th>4</th>\n      <td>Negara kita ngutang buat bngun infrastruktur y...</td>\n      <td>negara ngutang bngun infrastruktur sudah dipak...</td>\n    </tr>\n    <tr>\n      <th>5</th>\n      <td>Yg bisikin pak jokowi, cm mikirin perputaran d...</td>\n      <td>yang bisikin jokowi cm mikirin perputaran duit...</td>\n    </tr>\n    <tr>\n      <th>6</th>\n      <td>Masa tenang msih ngoceh aja..ttp jokowi harga ...</td>\n      <td>tenang msih ngoceh saja ttp jokowi harga mati</td>\n    </tr>\n    <tr>\n      <th>7</th>\n      <td>#UASdifitnahKejiBalasDiTPS   kerjasa ekonomi b...</td>\n      <td>kerjasa ekonomi bilateral multilateral doakan ...</td>\n    </tr>\n    <tr>\n      <th>8</th>\n      <td>Iya bener Aa, kita MANTAP kan pilihan ke Pemim...</td>\n      <td>iya benar aa mantap pilihan pemimpin yang bisa...</td>\n    </tr>\n    <tr>\n      <th>9</th>\n      <td>Prabowo-Sandi Sepakat Tak Ambil Gaji karena Ne...</td>\n      <td>prabowo sandi sepakat ambil gaji negara susah â</td>\n    </tr>\n    <tr>\n      <th>10</th>\n      <td>#PilihOrangBaik #PilihJelasIslamnya #PilihBaju...</td>\n      <td>pilih pemimpin yang udh pencapaiannya 5 pencap...</td>\n    </tr>\n    <tr>\n      <th>11</th>\n      <td>Calon presiden Jokowi menjelaskan program Kart...</td>\n      <td>calon presiden jokowi program kartu pra kerja ...</td>\n    </tr>\n    <tr>\n      <th>12</th>\n      <td>Gak nginti Lu to @yunartowijaya, dan si @AT_Ab...</td>\n      <td>gak nginti kamu to si gak ngacaaa gak ngajarin...</td>\n    </tr>\n    <tr>\n      <th>13</th>\n      <td>Menurut Jokowi, pemerintah selalu berupaya men...</td>\n      <td>jokowi pemerintah berupaya menjaga keseimbanga...</td>\n    </tr>\n    <tr>\n      <th>14</th>\n      <td>Terlalu berat nge bahas ekonomi dgn angka2.. C...</td>\n      <td>berat nge bahas ekonomi dengan angka2 bahas mo...</td>\n    </tr>\n  </tbody>\n</table>\n</div>"
     },
     "execution_count": 94,
     "metadata": {},
     "output_type": "execute_result"
    }
   ],
   "source": [
    "df[['tweet','tweet_test']].head(15)"
   ],
   "metadata": {
    "collapsed": false,
    "ExecuteTime": {
     "end_time": "2024-09-20T04:08:28.751723Z",
     "start_time": "2024-09-20T04:08:28.730825Z"
    }
   }
  },
  {
   "cell_type": "markdown",
   "source": [
    "## Text Normalization"
   ],
   "metadata": {
    "id": "ub6CVLmIhF4C"
   }
  },
  {
   "cell_type": "code",
   "execution_count": 95,
   "outputs": [],
   "source": [
    "stemmer = Stemmer()\n",
    "\n",
    "# Fungsi untuk melakukan stemming\n",
    "def stemming_tweet(tweet):\n",
    "    return stemmer.stem(tweet)\n",
    "\n",
    "# Menambahkan kolom 'tweet_stemming'\n",
    "df['tweet_stemming'] = df['tweet_test'].apply(stemming_tweet)"
   ],
   "metadata": {
    "collapsed": false,
    "ExecuteTime": {
     "end_time": "2024-09-20T04:08:30.830567200Z",
     "start_time": "2024-09-20T04:08:28.747309300Z"
    }
   }
  },
  {
   "cell_type": "code",
   "execution_count": 96,
   "outputs": [],
   "source": [
    "# Fungsi untuk melakukan lemmatization\n",
    "lemmatizer = Lemmatizer()\n",
    "\n",
    "def lemmatize_indonesian_nlp_id(text):\n",
    "    return ' '.join(lemmatizer.lemmatize(word) for word in text.split())\n",
    "\n",
    "# Terapkan lemmatization\n",
    "df['tweet_lemmatized'] = df['tweet_test'].apply(lemmatize_indonesian_nlp_id)"
   ],
   "metadata": {
    "collapsed": false,
    "ExecuteTime": {
     "end_time": "2024-09-20T04:08:31.818052700Z",
     "start_time": "2024-09-20T04:08:30.834931800Z"
    }
   }
  },
  {
   "cell_type": "code",
   "execution_count": 97,
   "outputs": [
    {
     "name": "stdout",
     "output_type": "stream",
     "text": [
      "Index: 596\n",
      "Asli: Berita yang menyalahkan SBY sebagai salah satu pembuat kesalahan dalam perekonomian Indonesia, Mungkin sebaiknya hal tersebut tidak disebut Prabowo ke muka publik. Suatu kesalahan yang terlihat konyol.  http://cnn.id/386111Â \n",
      "Stemming: berita salah sby salah buat salah ekonomi indonesia mungkin tidak prabowo muka publik salah konyol\n",
      "Lemmatized: berita salah sby salah buat salah ekonomi indonesia mungkin tidak prabowo muka publik salah konyol\n",
      "----------------------------------------------------------------------------------------------------\n",
      "Index: 972\n",
      "Asli: Pak @jokowi menwarkan Program Membina Ekonomi Keluarga Sejahtera (Mekaar) binaan Permodalan Nasional Madani (PNM) diluncurkan untuk menaikkan kesejahteraan warga, terutama ibu-ibu rumah tangga ke tingkat yang lebih atas lagi.   https://setkab.go.id/presiden-jokowi-program-mekaar-untuk-naikkan-kesejahteraan-ibu-ibu/Â â€¦ #JokowiMenangTotalDebat\n",
      "Stemming: menwarkan program bina ekonomi keluarga sejahtera mekaar bina modal nasional madani pnm luncur naik sejahtera warga rumah tangga tingkat â\n",
      "Lemmatized: menwarkan program bina ekonomi keluarga sejahtera mekaar bina modal nasional madani pnm luncur naik sejahtera warga rumah tangga tingkat \n",
      "----------------------------------------------------------------------------------------------------\n",
      "Index: 1470\n",
      "Asli: Insinyur Kehutanan mau \"ngajari\" Pengusaha Besar yg Doktor dan MBA ttg ekonomi makro. Yang waras sopo ??? Tgl.17/4 datangi \"TPS\" (Tusuk PRABOWO SANDI)\n",
      "Stemming: insinyur hutan ngajari usaha yang doktor mbak tentang ekonomi makro waras sopo tanggal 17 4 datang tps tusuk prabowo sandi\n",
      "Lemmatized: insinyur hutan ngajari usaha yang doktor mbak tentang ekonomi makro waras sopo tanggal 17 4 datang tps tusuk prabowo sandi\n",
      "----------------------------------------------------------------------------------------------------\n",
      "Index: 227\n",
      "Asli: Prabowo-Sandi Kembali Tegaskan Tidak Akan Ambil Gaji Bila Terpilih  https://politik.rmol.co/read/2019/04/13/385982/Prabowo-Sandi-Kembali-Tegaskan-Tidak-Akan-Ambil-Gaji-Bila-Terpilih-Â â€¦\n",
      "Stemming: prabowo sandi tegas tidak ambil gaji pilih â\n",
      "Lemmatized: prabowo sandi tegas tidak ambil gaji pilih \n",
      "----------------------------------------------------------------------------------------------------\n",
      "Index: 1144\n",
      "Asli: Kesimpulannya perkembangan ekonomi, agraria dan kemaritiman menjadi fokus utama PAS bukan tidak peduli terhadap esport tapi masih ada masalah yg lebih d utamakan sama seperti halnya jokowi yg menomor satukan infrastruktur.\n",
      "Stemming: simpul kembang ekonomi agraria maritim fokus utama pas bukan tidak peduli esport masalah yang di utama hal jokowi yang nomor satu infrastruktur\n",
      "Lemmatized: simpul kembang ekonomi agraria maritim fokus utama pas bukan tidak peduli esport masalah yang di utama hal jokowi yang nomor satu infrastruktur\n",
      "----------------------------------------------------------------------------------------------------\n",
      "Index: 1114\n",
      "Asli: Gak ambil gaji yg cuma beberapa juta, tapi kebijakannya akan alirkan keuntungan Trilyunan rupiah ke perusahaann pribadi nya... Seperti di DKI  JANJI BASI @prabowo @sandiuno\n",
      "Stemming: gak ambil gaji yang juta bijak alir untung trilyunan rupiah perusahaann pribadi nya dki janji basi\n",
      "Lemmatized: gak ambil gaji yang juta bijak alir untung trilyunan rupiah perusahaann pribadi nya dki janji basi\n",
      "----------------------------------------------------------------------------------------------------\n",
      "Index: 190\n",
      "Asli: Lalu harga tiket pesawat kapan diturunkan pak?,saya sangat brharap besar dlm aspek ini,trlbh dngan mahal ny harga tiket pswt terbang yg amat tinggi/mahal tarif biaya expdisi antar kota pun ikut melonjak naik\n",
      "Stemming: harga tiket pesawat turun brharap dlm aspek trlbh dngan mahal ny harga tiket pesawat terbang yang mahal tarif biaya expdisi kota lonjak\n",
      "Lemmatized: harga tiket pesawat turun brharap dlm aspek trlbh dngan mahal ny harga tiket pesawat terbang yang mahal tarif biaya expdisi kota lonjak\n",
      "----------------------------------------------------------------------------------------------------\n",
      "Index: 573\n",
      "Asli: @prabowo dan @sandiuno kalau diberi mandat rakyat gak akan ambil gaji. Gak di jiplak lagi tah @Dennysiregar7 ðŸ˜‚ðŸ˜‚\n",
      "Stemming: mandat rakyat gak ambil gaji gak jiplak tah ðÿ ðÿ\n",
      "Lemmatized: mandat rakyat gak ambil gaji gak jiplak tah  \n",
      "----------------------------------------------------------------------------------------------------\n",
      "Index: 194\n",
      "Asli: Janji Tak Ambil Gaji jika Terpilih, Prabowo-Sandi Ikuti Jejak Para Presiden Terkenal Ini #UASdifitnahKejiDanBrutal #BeraniPilih02 #TusukPrabowoSandi #HoaxJkwMenangTotalDebat  http://bit.ly/2v9QUqhÂ \n",
      "Stemming: janji ambil gaji pilih prabowo sandi ikut jejak presiden kenal\n",
      "Lemmatized: janji ambil gaji pilih prabowo sandi ikut jejak presiden kenal\n",
      "----------------------------------------------------------------------------------------------------\n",
      "Index: 1625\n",
      "Asli: Ekonomi akan tumbuh dengan pemimpin pak jokowi #JokowiMenangTotalDebat pic.twitter.com/ji4hFii1wW\n",
      "Stemming: ekonomi tumbuh pimpin jokowi\n",
      "Lemmatized: ekonomi tumbuh pimpin jokowi\n",
      "----------------------------------------------------------------------------------------------------\n",
      "Index: 1525\n",
      "Asli: Heran jg sih sekelas sandy gk bisa bedain omongan ttg mikro dan makro ekonomi,  terlihat gk kompeten jadinya\n",
      "Stemming: heran juga sih kelas sandy gk bisa bedain omong tentang mikro makro ekonomi gk kompeten\n",
      "Lemmatized: heran juga sih kelas sandy gk bisa bedain omong tentang mikro makro ekonomi gk kompeten\n",
      "----------------------------------------------------------------------------------------------------\n",
      "Index: 48\n",
      "Asli: Monggo silahkan..itu hak anda...hargai juga kami yg inginkan perubahan lebih baik...\n",
      "Stemming: monggo silah hak harga yang ubah baik\n",
      "Lemmatized: monggo silah hak harga yang ubah baik\n",
      "----------------------------------------------------------------------------------------------------\n",
      "Index: 102\n",
      "Asli: #PilihOrangBaik #PilihJelasIslamnya #PilihBajuPutih  Pentingnya sisi industri kreatif dan inovatif di era industri global. Membuat jokowi tergerak untuk mengubah Badan Ekonomi Kreatif (Bekraf) menjadi sebuah kementerian .\n",
      "Stemming: sisi industri kreatif inovatif era industri global jokowi gerak ubah badan ekonomi kreatif bekraf menteri\n",
      "Lemmatized: sisi industri kreatif inovatif era industri global jokowi gerak ubah badan ekonomi kreatif bekraf menteri\n",
      "----------------------------------------------------------------------------------------------------\n",
      "Index: 432\n",
      "Asli: artinya presiden yg ke 6 tdk menerima gaji.prabowo sandi akan dilimpahkan ke yatim piatu dan dhuafa subhanallah\n",
      "Stemming: presiden yang 6 tidak terima gaji prabowo sandi limpah yatim piatu dhuafa subhanallah\n",
      "Lemmatized: presiden yang 6 tidak terima gaji prabowo sandi limpah yatim piatu dhuafa subhanallah\n",
      "----------------------------------------------------------------------------------------------------\n",
      "Index: 335\n",
      "Asli: Ngajarin ekonomi mikro sama makro ke pengusaha top kaya pak prabowo dan bang sandi ibarat ngajarin ikan berenang... Padahal udah jago #UASdifitnahKejiDanBrutal\n",
      "Stemming: ngajarin ekonomi mikro makro usaha top kaya prabowo bang sandi ngajarin ikan renang sudah jago\n",
      "Lemmatized: ngajarin ekonomi mikro makro usaha top kaya prabowo bang sandi ngajarin ikan renang sudah jago\n",
      "----------------------------------------------------------------------------------------------------\n",
      "Index: 1378\n",
      "Asli: Prabowo-sandi jika terpilih  gajinya tidak akan di ambil, tapi akan di sumbangkan ke kaum duafa\n",
      "Stemming: prabowo sandi pilih gaji tidak ambil sumbang kaum duafa\n",
      "Lemmatized: prabowo sandi pilih gaji tidak ambil sumbang kaum duafa\n",
      "----------------------------------------------------------------------------------------------------\n",
      "Index: 612\n",
      "Asli: wkwkwkk... uang gaji dari LN buat apa..?? sampai habis di Indonesia\n",
      "Stemming: wkwkwkk uang gaji ln habis indonesia\n",
      "Lemmatized: wkwkwkk uang gaji ln habis indonesia\n",
      "----------------------------------------------------------------------------------------------------\n",
      "Index: 120\n",
      "Asli: Ya allah apa mgkn sosok seorg jokowi berani sprti itu kl capres anda sih mgkn jg tlg @MardaniAliSera  jgn fitnah presidenku sprti itu... kl jokowi diberi jln itu krn beliau org baik pak dan presiden yg sangat dihargai, ah sy curiga jgn2 anda mau blg ini cawapres anda ðŸ˜‚ðŸ˜‚ðŸ˜‚\n",
      "Stemming: iya allah mungkin sosok seorg jokowi berani seperti kalau capres sih mungkin juga tlg jangan fitnah presiden seperti kalau jokowi jalan karena beliau org baik presiden yang harga ah saya curiga jgn2 bilang cawapres ðÿ ðÿ ðÿ\n",
      "Lemmatized: iya allah mungkin sosok seorg jokowi berani seperti kalau capres sih mungkin juga tlg jangan fitnah presiden seperti kalau jokowi jalan karena beliau org baik presiden yang harga ah saya curiga jgn2 bilang cawapres   \n",
      "----------------------------------------------------------------------------------------------------\n",
      "Index: 186\n",
      "Asli: Semua sudah ada NJOP nya,jadi kalau ngeyel harga nya ditinggiin,ya itu salah yg minta lah!!!\n",
      "Stemming: njop nya ngeyel harga nya ditinggiin iya salah yang\n",
      "Lemmatized: njop nya ngeyel harga nya ditinggiin iya salah yang\n",
      "----------------------------------------------------------------------------------------------------\n",
      "Index: 1609\n",
      "Asli: Prabowo Sandi janji ga  ambil gajinya sbg presiden - wakil presiden,  ya pasti berani lah.. kan ga mungkin jd presiden - wakil krn ga kepilih.. ngelawak nehðŸ˜…  pic.twitter.com/Iyj9J4suCc\n",
      "Stemming: prabowo sandi janji ga ambil gaji sbg presiden wakil presiden iya berani ga mungkin jadi presiden wakil karena ga pilih ngelawak nehðÿ\n",
      "Lemmatized: prabowo sandi janji ga ambil gaji sbg presiden wakil presiden iya berani ga mungkin jadi presiden wakil karena ga pilih ngelawak neh\n",
      "----------------------------------------------------------------------------------------------------\n"
     ]
    }
   ],
   "source": [
    "# Ambil 10 baris secara acak\n",
    "random_sample = df.sample(n=20, random_state=1)  # random_state untuk konsistensi hasil\n",
    "for index, row in random_sample.iterrows():\n",
    "    print(f\"Index: {index}\")\n",
    "    print(f\"Asli: {row['tweet']}\")\n",
    "    print(f\"Stemming: {row['tweet_stemming']}\")\n",
    "    print(f\"Lemmatized: {row['tweet_lemmatized']}\")\n",
    "    print(\"-\" * 100)  # Pembatas antar tweet"
   ],
   "metadata": {
    "collapsed": false,
    "ExecuteTime": {
     "end_time": "2024-09-20T04:08:31.839719200Z",
     "start_time": "2024-09-20T04:08:31.819049Z"
    }
   }
  },
  {
   "cell_type": "markdown",
   "source": [
    "## Hasil dari Text Preprocessing & Text Normalization\n",
    "\n",
    "*   Semua data terjadi perubahan dari text preprocessing\n",
    "*   Meskipun telah dicoba dengan Lematisasi dan Stemming, Tim Lebih memilih menggunakan lematisasi karena lebih akurat dalam mempertahankan makna\n",
    "\n"
   ],
   "metadata": {
    "id": "joVVed25jP_j"
   }
  },
  {
   "cell_type": "code",
   "execution_count": 97,
   "outputs": [],
   "source": [],
   "metadata": {
    "collapsed": false,
    "ExecuteTime": {
     "end_time": "2024-09-20T04:08:31.869306500Z",
     "start_time": "2024-09-20T04:08:31.836723500Z"
    }
   }
  }
 ],
 "metadata": {
  "colab": {
   "provenance": [],
   "toc_visible": true,
   "include_colab_link": true
  },
  "kernelspec": {
   "name": "python3",
   "language": "python",
   "display_name": "Python 3 (ipykernel)"
  },
  "language_info": {
   "name": "python"
  }
 },
 "nbformat": 4,
 "nbformat_minor": 0
}
